{
 "cells": [
  {
   "cell_type": "markdown",
   "metadata": {
    "application/vnd.databricks.v1+cell": {
     "cellMetadata": {
      "byteLimit": 2048000,
      "rowLimit": 10000
     },
     "inputWidgets": {},
     "nuid": "96816ed7-b08a-4ca3-abb9-f99880c3535d",
     "showTitle": false,
     "title": ""
    }
   },
   "source": [
    "\n",
    "## New York City 2022 Fiscal Year Salary Prediction"
   ]
  },
  {
   "cell_type": "code",
   "execution_count": 0,
   "metadata": {
    "application/vnd.databricks.v1+cell": {
     "cellMetadata": {
      "byteLimit": 2048000,
      "rowLimit": 10000
     },
     "inputWidgets": {},
     "nuid": "f3dd0a19-2787-40ab-84a5-33bc98cda053",
     "showTitle": false,
     "title": ""
    }
   },
   "outputs": [],
   "source": [
    "from pyspark.sql.types import  StructField, StructType, StringType, IntegerType,DateType, FloatType, DoubleType"
   ]
  },
  {
   "cell_type": "code",
   "execution_count": 0,
   "metadata": {
    "application/vnd.databricks.v1+cell": {
     "cellMetadata": {
      "byteLimit": 2048000,
      "rowLimit": 10000
     },
     "inputWidgets": {},
     "nuid": "d8f649ca-fd59-4492-9717-520f2206cc9a",
     "showTitle": false,
     "title": ""
    }
   },
   "outputs": [
    {
     "output_type": "stream",
     "name": "stdout",
     "output_type": "stream",
     "text": [
      "Row(Fiscal Year=2020, Payroll Number=17, Agency Name='OFFICE OF EMERGENCY MANAGEMENT', Last Name='BEREZIN', First Name='MIKHAIL', Mid Init=None, Agency Start Date=datetime.date(2015, 8, 10), Work Location Borough='BROOKLYN', Title Description='EMERGENCY PREPAREDNESS MANAGER', Leave Status as of June 30='ACTIVE', Base Salary=86005.0, Pay Basis='per Annum', Regular Hours=1820.0, Regular Gross Paid=84698.21, OT Hours=0.0, Total OT Paid=0.0, Total Other Pay=0.0)"
     ]
    }
   ],
   "source": [
    "filePath = \"/FileStore/tables/Citywide_Payroll_Data__Fiscal_Year_-1.csv\"\n",
    "\n",
    "rawDF = spark.read.csv(filePath, header=\"true\", inferSchema=\"true\", multiLine=\"true\", escape='\"')\n",
    "\n",
    "display(rawDF.head())"
   ]
  },
  {
   "cell_type": "markdown",
   "metadata": {
    "application/vnd.databricks.v1+cell": {
     "cellMetadata": {
      "byteLimit": 2048000,
      "rowLimit": 10000
     },
     "inputWidgets": {},
     "nuid": "5b9a9871-bd17-4fe6-904b-194e76c1536a",
     "showTitle": false,
     "title": ""
    }
   },
   "source": [
    "### Data Cleaning\n"
   ]
  },
  {
   "cell_type": "code",
   "execution_count": 0,
   "metadata": {
    "application/vnd.databricks.v1+cell": {
     "cellMetadata": {
      "byteLimit": 2048000,
      "rowLimit": 10000
     },
     "inputWidgets": {},
     "nuid": "3b41e193-c6d6-4827-b20e-f2cf7d9b7cfc",
     "showTitle": false,
     "title": ""
    }
   },
   "outputs": [],
   "source": [
    "from pyspark.sql.functions import *"
   ]
  },
  {
   "cell_type": "code",
   "execution_count": 0,
   "metadata": {
    "application/vnd.databricks.v1+cell": {
     "cellMetadata": {
      "byteLimit": 2048000,
      "rowLimit": 10000
     },
     "inputWidgets": {},
     "nuid": "ac916a7c-32cb-4b70-9728-f302487892cb",
     "showTitle": false,
     "title": ""
    }
   },
   "outputs": [],
   "source": [
    "rawDF = rawDF.na.drop('any')"
   ]
  },
  {
   "cell_type": "code",
   "execution_count": 0,
   "metadata": {
    "application/vnd.databricks.v1+cell": {
     "cellMetadata": {
      "byteLimit": 2048000,
      "rowLimit": 10000
     },
     "inputWidgets": {},
     "nuid": "570fd8e9-caf1-4835-800c-033453cfeee5",
     "showTitle": false,
     "title": ""
    }
   },
   "outputs": [],
   "source": [
    "yeardf = rawDF.withColumn(\"Year\", year(rawDF[\"Agency Start Date\"]))"
   ]
  },
  {
   "cell_type": "code",
   "execution_count": 0,
   "metadata": {
    "application/vnd.databricks.v1+cell": {
     "cellMetadata": {
      "byteLimit": 2048000,
      "rowLimit": 10000
     },
     "inputWidgets": {},
     "nuid": "d4ca23bd-d643-45ac-9072-166129ca7636",
     "showTitle": false,
     "title": ""
    }
   },
   "outputs": [],
   "source": [
    "diffdf = yeardf.withColumn(\"Years_Working\", col(\"Fiscal Year\") - col(\"Year\"))"
   ]
  },
  {
   "cell_type": "code",
   "execution_count": 0,
   "metadata": {
    "application/vnd.databricks.v1+cell": {
     "cellMetadata": {
      "byteLimit": 2048000,
      "rowLimit": 10000
     },
     "inputWidgets": {},
     "nuid": "f535bb55-b38a-49ff-b5d9-266f1cbaed2a",
     "showTitle": false,
     "title": ""
    }
   },
   "outputs": [],
   "source": [
    "hoursdf = diffdf[(diffdf['Regular Hours'] > 0) & (diffdf['OT Hours'] > 0) & (diffdf['Total OT Paid'] > 0) & (diffdf['Total Other Pay'] > 0) ]"
   ]
  },
  {
   "cell_type": "code",
   "execution_count": 0,
   "metadata": {
    "application/vnd.databricks.v1+cell": {
     "cellMetadata": {
      "byteLimit": 2048000,
      "rowLimit": 10000
     },
     "inputWidgets": {},
     "nuid": "7bed008c-f458-46c1-a26c-67068fca7444",
     "showTitle": false,
     "title": ""
    }
   },
   "outputs": [],
   "source": [
    "presentdf = hoursdf[(hoursdf['Leave Status as of June 30'] == 'ACTIVE')]"
   ]
  },
  {
   "cell_type": "code",
   "execution_count": 0,
   "metadata": {
    "application/vnd.databricks.v1+cell": {
     "cellMetadata": {
      "byteLimit": 2048000,
      "rowLimit": 10000
     },
     "inputWidgets": {},
     "nuid": "72cbbe88-fbb5-4afe-80ba-a1de3f98b35e",
     "showTitle": false,
     "title": ""
    }
   },
   "outputs": [
    {
     "output_type": "stream",
     "name": "stdout",
     "output_type": "stream",
     "text": [
      "+---------------------+------+\n|Work Location Borough| count|\n+---------------------+------+\n|            MANHATTAN|128683|\n|               QUEENS|103441|\n|             BROOKLYN| 97448|\n|                BRONX| 54504|\n|             RICHMOND| 18342|\n|          WESTCHESTER|   869|\n|               ULSTER|   353|\n|             SULLIVAN|   226|\n|             DELAWARE|   190|\n|               PUTNAM|    59|\n+---------------------+------+\n\n"
     ]
    }
   ],
   "source": [
    "presentdf.groupBy(\"Work Location Borough\") \\\n",
    "         .count() \\\n",
    "         .orderBy(desc(\"count\")) \\\n",
    "         .limit(10) \\\n",
    "         .show()"
   ]
  },
  {
   "cell_type": "code",
   "execution_count": 0,
   "metadata": {
    "application/vnd.databricks.v1+cell": {
     "cellMetadata": {
      "byteLimit": 2048000,
      "rowLimit": 10000
     },
     "inputWidgets": {},
     "nuid": "3cf0c58e-b8fb-43a6-89f5-2d33acf7f4d9",
     "showTitle": false,
     "title": ""
    }
   },
   "outputs": [],
   "source": [
    "rows = [\"MANHATTAN\", \"QUEENS\", \"BROOKLYN\", \"BRONX\", \"RICHMOND\"]"
   ]
  },
  {
   "cell_type": "code",
   "execution_count": 0,
   "metadata": {
    "application/vnd.databricks.v1+cell": {
     "cellMetadata": {
      "byteLimit": 2048000,
      "rowLimit": 10000
     },
     "inputWidgets": {},
     "nuid": "66922ffd-9633-43d8-9e40-9e3bb8f4402c",
     "showTitle": false,
     "title": ""
    }
   },
   "outputs": [],
   "source": [
    "loc_df = presentdf.filter(col(\"Work Location Borough\").isin(rows))"
   ]
  },
  {
   "cell_type": "code",
   "execution_count": 0,
   "metadata": {
    "application/vnd.databricks.v1+cell": {
     "cellMetadata": {
      "byteLimit": 2048000,
      "rowLimit": 10000
     },
     "inputWidgets": {},
     "nuid": "cc0b03c4-712b-4695-96fb-a7297be80bb4",
     "showTitle": false,
     "title": ""
    }
   },
   "outputs": [
    {
     "output_type": "stream",
     "name": "stdout",
     "output_type": "stream",
     "text": [
      "+--------------------+------+\n|         Agency Name| count|\n+--------------------+------+\n|   POLICE DEPARTMENT|158006|\n|     FIRE DEPARTMENT| 59648|\n|DEPARTMENT OF SAN...| 32321|\n|DEPARTMENT OF COR...| 22034|\n|DEPT OF PARKS & R...| 17480|\n|NYC HOUSING AUTHO...| 17044|\n|HRA/DEPT OF SOCIA...| 14602|\n|ADMIN FOR CHILDRE...| 13969|\n|DEPARTMENT OF TRA...| 12787|\n|DEPARTMENT OF EDU...|  9795|\n|DEPT OF ENVIRONME...|  9578|\n|DEPT OF HEALTH/ME...|  7875|\n|DEPT. OF HOMELESS...|  4852|\n|DEPT OF CITYWIDE ...|  3557|\n|DEPARTMENT OF BUI...|  2370|\n+--------------------+------+\n\n"
     ]
    }
   ],
   "source": [
    "presentdf.groupBy(\"Agency Name\") \\\n",
    "         .count() \\\n",
    "         .orderBy(desc(\"count\")) \\\n",
    "         .limit(15) \\\n",
    "         .show()"
   ]
  },
  {
   "cell_type": "code",
   "execution_count": 0,
   "metadata": {
    "application/vnd.databricks.v1+cell": {
     "cellMetadata": {
      "byteLimit": 2048000,
      "rowLimit": 10000
     },
     "inputWidgets": {},
     "nuid": "c6a34934-5de4-4c9e-a02b-e8ea38dd36db",
     "showTitle": false,
     "title": ""
    }
   },
   "outputs": [],
   "source": [
    "agency_rows = [\"POLICE DEPARTMENT\",\"FIRE DEPARTMENT\",\"DEPARTMENT OF SANITATION\",\"DEPARTMENT OF CORRECTION\",\"DEPT OF PARKS & RECREATION\",\"NYC HOUSING AUTHORITY\"]"
   ]
  },
  {
   "cell_type": "code",
   "execution_count": 0,
   "metadata": {
    "application/vnd.databricks.v1+cell": {
     "cellMetadata": {
      "byteLimit": 2048000,
      "rowLimit": 10000
     },
     "inputWidgets": {},
     "nuid": "3514d363-6b09-4179-beb5-cb7451d06cb5",
     "showTitle": false,
     "title": ""
    }
   },
   "outputs": [],
   "source": [
    "agency_df = loc_df.filter(col(\"Agency Name\").isin(agency_rows))"
   ]
  },
  {
   "cell_type": "code",
   "execution_count": 0,
   "metadata": {
    "application/vnd.databricks.v1+cell": {
     "cellMetadata": {
      "byteLimit": 2048000,
      "rowLimit": 10000
     },
     "inputWidgets": {},
     "nuid": "956c73b9-b4b4-4b6f-b611-86ee110f0dca",
     "showTitle": false,
     "title": ""
    }
   },
   "outputs": [
    {
     "output_type": "stream",
     "name": "stdout",
     "output_type": "stream",
     "text": [
      "+--------------------+-----+\n|   Title Description|count|\n+--------------------+-----+\n|      POLICE OFFICER|78588|\n|         FIREFIGHTER|32578|\n|   SANITATION WORKER|22572|\n|  CORRECTION OFFICER|16810|\n| SCHOOL SAFETY AGENT|14556|\n|           SERGEANT-|13621|\n|     P.O. DA DET GR3|12316|\n|          LIEUTENANT|11245|\n|EMERGENCY MEDICAL...| 8934|\n|           CARETAKER| 7317|\n|CHILD PROTECTIVE ...| 6660|\n| COMMUNITY ASSOCIATE| 6213|\n|             CAPTAIN| 5200|\n|COMMUNITY COORDIN...| 4941|\n|TRAFFIC ENFORCEME...| 4501|\n+--------------------+-----+\n\n"
     ]
    }
   ],
   "source": [
    "presentdf.groupBy(\"Title Description\") \\\n",
    "         .count() \\\n",
    "         .orderBy(desc(\"count\")) \\\n",
    "         .limit(15) \\\n",
    "         .show()"
   ]
  },
  {
   "cell_type": "code",
   "execution_count": 0,
   "metadata": {
    "application/vnd.databricks.v1+cell": {
     "cellMetadata": {
      "byteLimit": 2048000,
      "rowLimit": 10000
     },
     "inputWidgets": {},
     "nuid": "be2a0bfe-4c0a-40c8-a561-828346efcc71",
     "showTitle": false,
     "title": ""
    }
   },
   "outputs": [],
   "source": [
    "title_rows = [\"POLICE OFFICER\", \"FIREFIGHTER\", \"SANITATION WORKER\", \"CORRECTION OFFICER\", \"SCHOOL SAFETY AGENT\",\"SERGEANT-\",\"P.O. DA DET GR3\",\"LIEUTENANT\",\"EMERGENCY MEDICAL SPECIALIST-EMT\",\"CARETAKER\",\"CAPTAIN\"]"
   ]
  },
  {
   "cell_type": "code",
   "execution_count": 0,
   "metadata": {
    "application/vnd.databricks.v1+cell": {
     "cellMetadata": {
      "byteLimit": 2048000,
      "rowLimit": 10000
     },
     "inputWidgets": {},
     "nuid": "4f6b5b9e-fe9b-470b-a56e-5b485112cf81",
     "showTitle": false,
     "title": ""
    }
   },
   "outputs": [],
   "source": [
    "job_df = agency_df.filter(col(\"Title Description\").isin(title_rows))"
   ]
  },
  {
   "cell_type": "code",
   "execution_count": 0,
   "metadata": {
    "application/vnd.databricks.v1+cell": {
     "cellMetadata": {
      "byteLimit": 2048000,
      "rowLimit": 10000
     },
     "inputWidgets": {},
     "nuid": "aa1d00e0-504a-4d2e-8de6-8d02ccb87ba8",
     "showTitle": false,
     "title": ""
    }
   },
   "outputs": [
    {
     "output_type": "display_data",
     "data": {
      "text/html": [
       "<style scoped>\n",
       "  .table-result-container {\n",
       "    max-height: 300px;\n",
       "    overflow: auto;\n",
       "  }\n",
       "  table, th, td {\n",
       "    border: 1px solid black;\n",
       "    border-collapse: collapse;\n",
       "  }\n",
       "  th, td {\n",
       "    padding: 5px;\n",
       "  }\n",
       "  th {\n",
       "    text-align: left;\n",
       "  }\n",
       "</style><div class='table-result-container'><table class='table-result'><thead style='background-color: white'><tr><th>summary</th><th>Fiscal Year</th><th>Payroll Number</th><th>Agency Name</th><th>Last Name</th><th>First Name</th><th>Mid Init</th><th>Work Location Borough</th><th>Title Description</th><th>Leave Status as of June 30</th><th>Base Salary</th><th>Pay Basis</th><th>Regular Hours</th><th>Regular Gross Paid</th><th>OT Hours</th><th>Total OT Paid</th><th>Total Other Pay</th><th>Year</th><th>Years_Working</th></tr></thead><tbody><tr><td>count</td><td>223590</td><td>223590</td><td>223590</td><td>223590</td><td>223590</td><td>223590</td><td>223590</td><td>223590</td><td>223590</td><td>223590</td><td>223590</td><td>223590</td><td>223590</td><td>223590</td><td>223590</td><td>223590</td><td>223590</td><td>223590</td></tr><tr><td>mean</td><td>2019.9617693098976</td><td>166.16562458070575</td><td>null</td><td>null</td><td>NaN</td><td>null</td><td>null</td><td>null</td><td>null</td><td>75378.97500782683</td><td>null</td><td>2043.7847135406892</td><td>73918.59835077709</td><td>354.599840690548</td><td>18073.957837738617</td><td>12584.375584550891</td><td>2009.2992665146026</td><td>10.662502795294959</td></tr><tr><td>stddev</td><td>1.405692076336649</td><td>277.1495713967898</td><td>null</td><td>null</td><td>NaN</td><td>null</td><td>null</td><td>null</td><td>null</td><td>23740.0365050578</td><td>null</td><td>152.73283285877068</td><td>25501.21536604218</td><td>263.43931861633865</td><td>14975.625476924466</td><td>7532.994936903355</td><td>7.241558228058092</td><td>7.125440580287705</td></tr><tr><td>min</td><td>2018</td><td>56</td><td>DEPARTMENT OF CORRECTION</td><td>AADAMS</td><td>A</td><td>A</td><td>BRONX</td><td>CAPTAIN</td><td>ACTIVE</td><td>29636.0</td><td>per Annum</td><td>125.72</td><td>-684.53</td><td>0.08</td><td>1.89</td><td>0.02</td><td>1966</td><td>0</td></tr><tr><td>25%</td><td>2019</td><td>56</td><td>null</td><td>null</td><td>NaN</td><td>null</td><td>null</td><td>null</td><td>null</td><td>50207.0</td><td>null</td><td>2045.72</td><td>49635.86</td><td>159.3</td><td>6479.04</td><td>5903.99</td><td>2004</td><td>4</td></tr><tr><td>50%</td><td>2020</td><td>56</td><td>null</td><td>null</td><td>NaN</td><td>null</td><td>null</td><td>null</td><td>null</td><td>85292.0</td><td>null</td><td>2080.0</td><td>84346.17</td><td>305.1</td><td>14186.75</td><td>13480.84</td><td>2010</td><td>10</td></tr><tr><td>75%</td><td>2021</td><td>57</td><td>null</td><td>null</td><td>NaN</td><td>null</td><td>null</td><td>null</td><td>null</td><td>85292.0</td><td>null</td><td>2080.0</td><td>85058.23</td><td>482.48</td><td>26481.92</td><td>18017.72</td><td>2016</td><td>16</td></tr><tr><td>max</td><td>2022</td><td>996</td><td>POLICE DEPARTMENT</td><td>ZYTKOWICZ</td><td>ZYNAISHA</td><td>Z</td><td>RICHMOND</td><td>SERGEANT-</td><td>ACTIVE</td><td>176449.0</td><td>per Annum</td><td>2475.4</td><td>186505.23</td><td>3340.77</td><td>188594.12</td><td>99512.69</td><td>2022</td><td>54</td></tr></tbody></table></div>"
      ]
     },
     "metadata": {
      "application/vnd.databricks.v1+output": {
       "addedWidgets": {},
       "aggData": [],
       "aggError": "",
       "aggOverflow": false,
       "aggSchema": [],
       "aggSeriesLimitReached": false,
       "aggType": "",
       "arguments": {},
       "columnCustomDisplayInfos": {},
       "data": [
        [
         "count",
         "223590",
         "223590",
         "223590",
         "223590",
         "223590",
         "223590",
         "223590",
         "223590",
         "223590",
         "223590",
         "223590",
         "223590",
         "223590",
         "223590",
         "223590",
         "223590",
         "223590",
         "223590"
        ],
        [
         "mean",
         "2019.9617693098976",
         "166.16562458070575",
         null,
         null,
         "NaN",
         null,
         null,
         null,
         null,
         "75378.97500782683",
         null,
         "2043.7847135406892",
         "73918.59835077709",
         "354.599840690548",
         "18073.957837738617",
         "12584.375584550891",
         "2009.2992665146026",
         "10.662502795294959"
        ],
        [
         "stddev",
         "1.405692076336649",
         "277.1495713967898",
         null,
         null,
         "NaN",
         null,
         null,
         null,
         null,
         "23740.0365050578",
         null,
         "152.73283285877068",
         "25501.21536604218",
         "263.43931861633865",
         "14975.625476924466",
         "7532.994936903355",
         "7.241558228058092",
         "7.125440580287705"
        ],
        [
         "min",
         "2018",
         "56",
         "DEPARTMENT OF CORRECTION",
         "AADAMS",
         "A",
         "A",
         "BRONX",
         "CAPTAIN",
         "ACTIVE",
         "29636.0",
         "per Annum",
         "125.72",
         "-684.53",
         "0.08",
         "1.89",
         "0.02",
         "1966",
         "0"
        ],
        [
         "25%",
         "2019",
         "56",
         null,
         null,
         "NaN",
         null,
         null,
         null,
         null,
         "50207.0",
         null,
         "2045.72",
         "49635.86",
         "159.3",
         "6479.04",
         "5903.99",
         "2004",
         "4"
        ],
        [
         "50%",
         "2020",
         "56",
         null,
         null,
         "NaN",
         null,
         null,
         null,
         null,
         "85292.0",
         null,
         "2080.0",
         "84346.17",
         "305.1",
         "14186.75",
         "13480.84",
         "2010",
         "10"
        ],
        [
         "75%",
         "2021",
         "57",
         null,
         null,
         "NaN",
         null,
         null,
         null,
         null,
         "85292.0",
         null,
         "2080.0",
         "85058.23",
         "482.48",
         "26481.92",
         "18017.72",
         "2016",
         "16"
        ],
        [
         "max",
         "2022",
         "996",
         "POLICE DEPARTMENT",
         "ZYTKOWICZ",
         "ZYNAISHA",
         "Z",
         "RICHMOND",
         "SERGEANT-",
         "ACTIVE",
         "176449.0",
         "per Annum",
         "2475.4",
         "186505.23",
         "3340.77",
         "188594.12",
         "99512.69",
         "2022",
         "54"
        ]
       ],
       "datasetInfos": [],
       "dbfsResultPath": null,
       "isJsonSchema": true,
       "metadata": {},
       "overflow": false,
       "plotOptions": {
        "customPlotOptions": {},
        "displayType": "table",
        "pivotAggregation": null,
        "pivotColumns": null,
        "xColumns": null,
        "yColumns": null
       },
       "removedWidgets": [],
       "schema": [
        {
         "metadata": "{}",
         "name": "summary",
         "type": "\"string\""
        },
        {
         "metadata": "{}",
         "name": "Fiscal Year",
         "type": "\"string\""
        },
        {
         "metadata": "{}",
         "name": "Payroll Number",
         "type": "\"string\""
        },
        {
         "metadata": "{}",
         "name": "Agency Name",
         "type": "\"string\""
        },
        {
         "metadata": "{}",
         "name": "Last Name",
         "type": "\"string\""
        },
        {
         "metadata": "{}",
         "name": "First Name",
         "type": "\"string\""
        },
        {
         "metadata": "{}",
         "name": "Mid Init",
         "type": "\"string\""
        },
        {
         "metadata": "{}",
         "name": "Work Location Borough",
         "type": "\"string\""
        },
        {
         "metadata": "{}",
         "name": "Title Description",
         "type": "\"string\""
        },
        {
         "metadata": "{}",
         "name": "Leave Status as of June 30",
         "type": "\"string\""
        },
        {
         "metadata": "{}",
         "name": "Base Salary",
         "type": "\"string\""
        },
        {
         "metadata": "{}",
         "name": "Pay Basis",
         "type": "\"string\""
        },
        {
         "metadata": "{}",
         "name": "Regular Hours",
         "type": "\"string\""
        },
        {
         "metadata": "{}",
         "name": "Regular Gross Paid",
         "type": "\"string\""
        },
        {
         "metadata": "{}",
         "name": "OT Hours",
         "type": "\"string\""
        },
        {
         "metadata": "{}",
         "name": "Total OT Paid",
         "type": "\"string\""
        },
        {
         "metadata": "{}",
         "name": "Total Other Pay",
         "type": "\"string\""
        },
        {
         "metadata": "{}",
         "name": "Year",
         "type": "\"string\""
        },
        {
         "metadata": "{}",
         "name": "Years_Working",
         "type": "\"string\""
        }
       ],
       "type": "table"
      }
     },
     "output_type": "display_data"
    }
   ],
   "source": [
    "display(job_df.summary())"
   ]
  },
  {
   "cell_type": "code",
   "execution_count": 0,
   "metadata": {
    "application/vnd.databricks.v1+cell": {
     "cellMetadata": {
      "byteLimit": 2048000,
      "rowLimit": 10000
     },
     "inputWidgets": {},
     "nuid": "47df49b4-659c-4248-9be2-7e84cf18ce01",
     "showTitle": false,
     "title": ""
    }
   },
   "outputs": [],
   "source": [
    "zero_df = job_df[(job_df['Regular Gross Paid'] > 0)]"
   ]
  },
  {
   "cell_type": "code",
   "execution_count": 0,
   "metadata": {
    "application/vnd.databricks.v1+cell": {
     "cellMetadata": {
      "byteLimit": 2048000,
      "rowLimit": 10000
     },
     "inputWidgets": {},
     "nuid": "29cfd47d-b192-4679-b11d-5f01322ce070",
     "showTitle": false,
     "title": ""
    }
   },
   "outputs": [],
   "source": [
    "dup_df = zero_df.dropDuplicates()"
   ]
  },
  {
   "cell_type": "code",
   "execution_count": 0,
   "metadata": {
    "application/vnd.databricks.v1+cell": {
     "cellMetadata": {
      "byteLimit": 2048000,
      "rowLimit": 10000
     },
     "inputWidgets": {},
     "nuid": "c91a484c-2970-4c45-80df-53d8654c60e8",
     "showTitle": false,
     "title": ""
    }
   },
   "outputs": [],
   "source": [
    "columnsToKeep = [\"Work Location Borough\",\"Agency Name\",\"Title Description\",\"Regular Hours\",\"OT Hours\",\"Total OT Paid\",\"Total Other Pay\", \"Years_Working\",\"Regular Gross Paid\"]\n",
    "\n",
    "df = dup_df.select(columnsToKeep)"
   ]
  },
  {
   "cell_type": "code",
   "execution_count": 0,
   "metadata": {
    "application/vnd.databricks.v1+cell": {
     "cellMetadata": {
      "byteLimit": 2048000,
      "rowLimit": 10000
     },
     "inputWidgets": {},
     "nuid": "8cf0961e-e2fb-4d09-84b5-a0da8669df9d",
     "showTitle": false,
     "title": ""
    }
   },
   "outputs": [
    {
     "output_type": "stream",
     "name": "stdout",
     "output_type": "stream",
     "text": [
      "Row(Work Location Borough='MANHATTAN', Agency Name='POLICE DEPARTMENT', Title Description='LIEUTENANT', Regular Hours=2080.0, OT Hours=750.75, Total OT Paid=52691.31, Total Other Pay=21609.12, Years_Working=28, Regular Gross Paid=131514.59)"
     ]
    }
   ],
   "source": [
    "df.cache().count()\n",
    "display(df.head())"
   ]
  },
  {
   "cell_type": "markdown",
   "metadata": {
    "application/vnd.databricks.v1+cell": {
     "cellMetadata": {
      "byteLimit": 2048000,
      "rowLimit": 10000
     },
     "inputWidgets": {},
     "nuid": "efb57b24-3b7f-414f-8f1a-eb3530feeecf",
     "showTitle": false,
     "title": ""
    }
   },
   "source": [
    "### Visualizations \n"
   ]
  },
  {
   "cell_type": "code",
   "execution_count": 0,
   "metadata": {
    "application/vnd.databricks.v1+cell": {
     "cellMetadata": {
      "byteLimit": 2048000,
      "rowLimit": 10000
     },
     "inputWidgets": {},
     "nuid": "e00d0023-a95d-48c2-9f01-743b685255df",
     "showTitle": false,
     "title": ""
    }
   },
   "outputs": [
    {
     "output_type": "display_data",
     "data": {
      "text/html": [
       "<style scoped>\n",
       "  .table-result-container {\n",
       "    max-height: 300px;\n",
       "    overflow: auto;\n",
       "  }\n",
       "  table, th, td {\n",
       "    border: 1px solid black;\n",
       "    border-collapse: collapse;\n",
       "  }\n",
       "  th, td {\n",
       "    padding: 5px;\n",
       "  }\n",
       "  th {\n",
       "    text-align: left;\n",
       "  }\n",
       "</style><div class='table-result-container'><table class='table-result'><thead style='background-color: white'><tr><th>Years_Working</th><th>Avg_Salary</th></tr></thead><tbody><tr><td>43</td><td>130762.79</td></tr><tr><td>42</td><td>115751.53222222223</td></tr><tr><td>40</td><td>109435.44341463414</td></tr><tr><td>41</td><td>109106.24818181815</td></tr><tr><td>39</td><td>108437.4842857143</td></tr><tr><td>37</td><td>108027.85376237628</td></tr><tr><td>36</td><td>107608.2099218751</td></tr><tr><td>35</td><td>105031.13360465114</td></tr><tr><td>38</td><td>104646.48484848479</td></tr><tr><td>27</td><td>102477.10900347619</td></tr><tr><td>33</td><td>102442.57971887551</td></tr><tr><td>32</td><td>102312.95766153846</td></tr><tr><td>28</td><td>101367.40368794325</td></tr><tr><td>31</td><td>101268.69515513131</td></tr><tr><td>34</td><td>100874.10769230772</td></tr><tr><td>30</td><td>100024.22474308294</td></tr><tr><td>26</td><td>99904.60210871595</td></tr><tr><td>29</td><td>99807.05071117559</td></tr><tr><td>25</td><td>97961.56798542086</td></tr><tr><td>24</td><td>93761.7996972704</td></tr><tr><td>23</td><td>92088.62718864094</td></tr><tr><td>17</td><td>91206.87717078405</td></tr><tr><td>16</td><td>90963.40473241801</td></tr><tr><td>19</td><td>90454.15641379311</td></tr><tr><td>18</td><td>89829.85717418542</td></tr><tr><td>22</td><td>89134.21759174313</td></tr><tr><td>15</td><td>89114.90477020471</td></tr><tr><td>20</td><td>88137.85805370337</td></tr><tr><td>14</td><td>87924.39520475347</td></tr><tr><td>21</td><td>87822.99205469142</td></tr><tr><td>13</td><td>85497.05806312636</td></tr><tr><td>48</td><td>85022.26</td></tr><tr><td>12</td><td>84361.0382792321</td></tr><tr><td>11</td><td>83586.09063247149</td></tr><tr><td>9</td><td>83467.01075537929</td></tr><tr><td>49</td><td>83145.39</td></tr><tr><td>50</td><td>83145.39</td></tr><tr><td>10</td><td>82861.75228427151</td></tr><tr><td>8</td><td>82479.34154998216</td></tr><tr><td>7</td><td>81009.07870320343</td></tr><tr><td>46</td><td>77021.88</td></tr><tr><td>53</td><td>77021.88</td></tr><tr><td>54</td><td>77021.88</td></tr><tr><td>47</td><td>77021.88</td></tr><tr><td>52</td><td>74914.18</td></tr><tr><td>45</td><td>74914.18</td></tr><tr><td>6</td><td>73347.81420862707</td></tr><tr><td>5</td><td>58169.424611106704</td></tr><tr><td>4</td><td>51885.0060285375</td></tr><tr><td>3</td><td>46977.78591195402</td></tr><tr><td>2</td><td>42721.97832123542</td></tr><tr><td>1</td><td>35866.964408504704</td></tr><tr><td>0</td><td>19718.03542993632</td></tr></tbody></table></div>"
      ]
     },
     "metadata": {
      "application/vnd.databricks.v1+output": {
       "addedWidgets": {},
       "aggData": [],
       "aggError": "",
       "aggOverflow": false,
       "aggSchema": [],
       "aggSeriesLimitReached": false,
       "aggType": "",
       "arguments": {},
       "columnCustomDisplayInfos": {},
       "data": [
        [
         43,
         130762.79
        ],
        [
         42,
         115751.53222222223
        ],
        [
         40,
         109435.44341463414
        ],
        [
         41,
         109106.24818181815
        ],
        [
         39,
         108437.4842857143
        ],
        [
         37,
         108027.85376237628
        ],
        [
         36,
         107608.2099218751
        ],
        [
         35,
         105031.13360465114
        ],
        [
         38,
         104646.48484848479
        ],
        [
         27,
         102477.10900347619
        ],
        [
         33,
         102442.57971887551
        ],
        [
         32,
         102312.95766153846
        ],
        [
         28,
         101367.40368794325
        ],
        [
         31,
         101268.69515513131
        ],
        [
         34,
         100874.10769230772
        ],
        [
         30,
         100024.22474308294
        ],
        [
         26,
         99904.60210871595
        ],
        [
         29,
         99807.05071117559
        ],
        [
         25,
         97961.56798542086
        ],
        [
         24,
         93761.7996972704
        ],
        [
         23,
         92088.62718864094
        ],
        [
         17,
         91206.87717078405
        ],
        [
         16,
         90963.40473241801
        ],
        [
         19,
         90454.15641379311
        ],
        [
         18,
         89829.85717418542
        ],
        [
         22,
         89134.21759174313
        ],
        [
         15,
         89114.90477020471
        ],
        [
         20,
         88137.85805370337
        ],
        [
         14,
         87924.39520475347
        ],
        [
         21,
         87822.99205469142
        ],
        [
         13,
         85497.05806312636
        ],
        [
         48,
         85022.26
        ],
        [
         12,
         84361.0382792321
        ],
        [
         11,
         83586.09063247149
        ],
        [
         9,
         83467.01075537929
        ],
        [
         49,
         83145.39
        ],
        [
         50,
         83145.39
        ],
        [
         10,
         82861.75228427151
        ],
        [
         8,
         82479.34154998216
        ],
        [
         7,
         81009.07870320343
        ],
        [
         46,
         77021.88
        ],
        [
         53,
         77021.88
        ],
        [
         54,
         77021.88
        ],
        [
         47,
         77021.88
        ],
        [
         52,
         74914.18
        ],
        [
         45,
         74914.18
        ],
        [
         6,
         73347.81420862707
        ],
        [
         5,
         58169.424611106704
        ],
        [
         4,
         51885.0060285375
        ],
        [
         3,
         46977.78591195402
        ],
        [
         2,
         42721.97832123542
        ],
        [
         1,
         35866.964408504704
        ],
        [
         0,
         19718.03542993632
        ]
       ],
       "datasetInfos": [],
       "dbfsResultPath": null,
       "isJsonSchema": true,
       "metadata": {},
       "overflow": false,
       "plotOptions": {
        "customPlotOptions": {},
        "displayType": "table",
        "pivotAggregation": null,
        "pivotColumns": null,
        "xColumns": null,
        "yColumns": null
       },
       "removedWidgets": [],
       "schema": [
        {
         "metadata": "{}",
         "name": "Years_Working",
         "type": "\"integer\""
        },
        {
         "metadata": "{}",
         "name": "Avg_Salary",
         "type": "\"double\""
        }
       ],
       "type": "table"
      }
     },
     "output_type": "display_data"
    },
    {
     "output_type": "display_data",
     "data": {
      "text/plain": [
       "Databricks visualization. Run in Databricks to view."
      ]
     },
     "metadata": {
      "application/vnd.databricks.v1.subcommand+json": {
       "bindings": {},
       "collapsed": false,
       "command": "%python\n__backend_agg_display_orig = display\n__backend_agg_dfs = []\ndef __backend_agg_display_new(df):\n    __backend_agg_df_modules = [\"pandas.core.frame\", \"databricks.koalas.frame\", \"pyspark.sql.dataframe\", \"pyspark.pandas.frame\", \"pyspark.sql.connect.dataframe\"]\n    if (type(df).__module__ in __backend_agg_df_modules and type(df).__name__ == 'DataFrame') or isinstance(df, list):\n        __backend_agg_dfs.append(df)\n\ndisplay = __backend_agg_display_new\n\ndef __backend_agg_user_code_fn():\n    import base64\n    exec(base64.standard_b64decode(\"ZGlzcGxheShkZi5ncm91cEJ5KCJZZWFyc19Xb3JraW5nIikuYWdnKGF2ZygiUmVndWxhciBHcm9zcyBQYWlkIikuYWxpYXMoIkF2Z19TYWxhcnkiKSkub3JkZXJCeShjb2woIkF2Z19TYWxhcnkiKS5kZXNjKCkpKQo=\").decode())\n\ntry:\n    # run user code\n    __backend_agg_user_code_fn()\n\n    #reset display function\n    display = __backend_agg_display_orig\n\n    if len(__backend_agg_dfs) > 0:\n        # create a temp view\n        if hasattr(__backend_agg_dfs[0], \"to_spark\"):\n            # koalas dataframe\n            __backend_agg_dfs[0].to_spark().createOrReplaceTempView(\"DatabricksViewd037ed5\")\n        elif type(__backend_agg_dfs[0]).__module__ == \"pandas.core.frame\" or isinstance(__backend_agg_dfs[0], list):\n            # pandas dataframe\n            spark.createDataFrame(__backend_agg_dfs[0]).createOrReplaceTempView(\"DatabricksViewd037ed5\")\n        else:\n            __backend_agg_dfs[0].createOrReplaceTempView(\"DatabricksViewd037ed5\")\n        #run backend agg\n        display(spark.sql(\"\"\"WITH q AS (select * from DatabricksViewd037ed5) SELECT `Years_Working`,`Avg_Salary` FROM q\"\"\"))\n    else:\n        displayHTML(\"dataframe no longer exists. If you're using dataframe.display(), use display(dataframe) instead.\")\n\n\nfinally:\n    spark.sql(\"drop view if exists DatabricksViewd037ed5\")\n    display = __backend_agg_display_orig\n    del __backend_agg_display_new\n    del __backend_agg_display_orig\n    del __backend_agg_dfs\n    del __backend_agg_user_code_fn\n\n",
       "commandTitle": "Visualization 1",
       "commandType": "auto",
       "commandVersion": 0,
       "commentThread": [],
       "commentsVisible": false,
       "contentSha256Hex": null,
       "customPlotOptions": {
        "redashChart": [
         {
          "key": "type",
          "value": "CHART"
         },
         {
          "key": "options",
          "value": {
           "alignYAxesAtZero": true,
           "coefficient": 1,
           "columnConfigurationMap": {
            "x": {
             "column": "Years_Working",
             "id": "column_f0f145c31"
            },
            "y": [
             {
              "column": "Avg_Salary",
              "id": "column_f0f145c32"
             }
            ]
           },
           "dateTimeFormat": "DD/MM/YYYY HH:mm",
           "direction": {
            "type": "counterclockwise"
           },
           "error_y": {
            "type": "data",
            "visible": true
           },
           "globalSeriesType": "scatter",
           "legend": {
            "traceorder": "normal"
           },
           "missingValuesAsZero": true,
           "numberFormat": "0,0[.]00000",
           "percentFormat": "0[.]00%",
           "series": {
            "error_y": {
             "type": "data",
             "visible": true
            },
            "stacking": null
           },
           "seriesOptions": {
            "column_f0f145c32": {
             "name": "Avg_Salary",
             "yAxis": 0
            }
           },
           "showDataLabels": false,
           "sizemode": "diameter",
           "sortX": true,
           "sortY": true,
           "swappedAxes": false,
           "textFormat": "",
           "useAggregationsUi": true,
           "valuesOptions": {},
           "version": 2,
           "xAxis": {
            "labels": {
             "enabled": true
            },
            "type": "-"
           },
           "yAxis": [
            {
             "type": "-"
            },
            {
             "opposite": true,
             "type": "-"
            }
           ]
          }
         }
        ]
       },
       "datasetPreviewNameToCmdIdMap": {},
       "diffDeletes": [],
       "diffInserts": [],
       "displayType": "redashChart",
       "error": null,
       "errorSummary": null,
       "errorTraceType": null,
       "finishTime": 0,
       "globalVars": {},
       "guid": "",
       "height": "auto",
       "hideCommandCode": false,
       "hideCommandResult": false,
       "iPythonMetadata": null,
       "inputWidgets": {},
       "isLockedInExamMode": false,
       "latestUser": "a user",
       "latestUserId": null,
       "listResultMetadata": null,
       "metadata": {
        "byteLimit": 2048000,
        "rowLimit": 10000
       },
       "nuid": "4f9b4c6a-a998-4dd9-8471-ce63d1721039",
       "origId": 0,
       "parentHierarchy": [],
       "pivotAggregation": null,
       "pivotColumns": null,
       "position": 3.6143760681152344,
       "resultDbfsErrorMessage": null,
       "resultDbfsStatus": "INLINED_IN_TREE",
       "results": null,
       "showCommandTitle": false,
       "startTime": 0,
       "state": "input",
       "streamStates": {},
       "subcommandOptions": {
        "queryPlan": {
         "selects": [
          {
           "column": "Years_Working",
           "type": "column"
          },
          {
           "column": "Avg_Salary",
           "type": "column"
          }
         ]
        }
       },
       "submitTime": 0,
       "subtype": "tableResultSubCmd.visualization",
       "tableResultIndex": 0,
       "useConsistentColors": false,
       "version": "CommandV1",
       "width": "auto",
       "workflows": [],
       "xColumns": null,
       "yColumns": null
      }
     },
     "output_type": "display_data"
    }
   ],
   "source": [
    "display(df.groupBy(\"Years_Working\").agg(avg(\"Regular Gross Paid\").alias(\"Avg_Salary\")).orderBy(col(\"Avg_Salary\").desc()))\n"
   ]
  },
  {
   "cell_type": "code",
   "execution_count": 0,
   "metadata": {
    "application/vnd.databricks.v1+cell": {
     "cellMetadata": {
      "byteLimit": 2048000,
      "rowLimit": 10000
     },
     "inputWidgets": {},
     "nuid": "380e782d-2681-4b3b-a020-45e1df251ccc",
     "showTitle": false,
     "title": ""
    }
   },
   "outputs": [
    {
     "output_type": "display_data",
     "data": {
      "text/html": [
       "<style scoped>\n",
       "  .table-result-container {\n",
       "    max-height: 300px;\n",
       "    overflow: auto;\n",
       "  }\n",
       "  table, th, td {\n",
       "    border: 1px solid black;\n",
       "    border-collapse: collapse;\n",
       "  }\n",
       "  th, td {\n",
       "    padding: 5px;\n",
       "  }\n",
       "  th {\n",
       "    text-align: left;\n",
       "  }\n",
       "</style><div class='table-result-container'><table class='table-result'><thead style='background-color: white'><tr><th>Agency Name</th><th>Avg_Salary</th></tr></thead><tbody><tr><td>FIRE DEPARTMENT</td><td>77666.7815768527</td></tr><tr><td>DEPARTMENT OF CORRECTION</td><td>75723.51377640612</td></tr><tr><td>POLICE DEPARTMENT</td><td>75645.59088981565</td></tr><tr><td>DEPARTMENT OF SANITATION</td><td>66691.18563707253</td></tr><tr><td>NYC HOUSING AUTHORITY</td><td>36425.094031706976</td></tr></tbody></table></div>"
      ]
     },
     "metadata": {
      "application/vnd.databricks.v1+output": {
       "addedWidgets": {},
       "aggData": [],
       "aggError": "",
       "aggOverflow": false,
       "aggSchema": [],
       "aggSeriesLimitReached": false,
       "aggType": "",
       "arguments": {},
       "columnCustomDisplayInfos": {},
       "data": [
        [
         "FIRE DEPARTMENT",
         77666.7815768527
        ],
        [
         "DEPARTMENT OF CORRECTION",
         75723.51377640612
        ],
        [
         "POLICE DEPARTMENT",
         75645.59088981565
        ],
        [
         "DEPARTMENT OF SANITATION",
         66691.18563707253
        ],
        [
         "NYC HOUSING AUTHORITY",
         36425.094031706976
        ]
       ],
       "datasetInfos": [],
       "dbfsResultPath": null,
       "isJsonSchema": true,
       "metadata": {},
       "overflow": false,
       "plotOptions": {
        "customPlotOptions": {},
        "displayType": "table",
        "pivotAggregation": null,
        "pivotColumns": null,
        "xColumns": null,
        "yColumns": null
       },
       "removedWidgets": [],
       "schema": [
        {
         "metadata": "{}",
         "name": "Agency Name",
         "type": "\"string\""
        },
        {
         "metadata": "{}",
         "name": "Avg_Salary",
         "type": "\"double\""
        }
       ],
       "type": "table"
      }
     },
     "output_type": "display_data"
    },
    {
     "output_type": "display_data",
     "data": {
      "text/plain": [
       "Databricks visualization. Run in Databricks to view."
      ]
     },
     "metadata": {
      "application/vnd.databricks.v1.subcommand+json": {
       "bindings": {},
       "collapsed": false,
       "command": "%python\n__backend_agg_display_orig = display\n__backend_agg_dfs = []\ndef __backend_agg_display_new(df):\n    __backend_agg_df_modules = [\"pandas.core.frame\", \"databricks.koalas.frame\", \"pyspark.sql.dataframe\", \"pyspark.pandas.frame\", \"pyspark.sql.connect.dataframe\"]\n    if (type(df).__module__ in __backend_agg_df_modules and type(df).__name__ == 'DataFrame') or isinstance(df, list):\n        __backend_agg_dfs.append(df)\n\ndisplay = __backend_agg_display_new\n\ndef __backend_agg_user_code_fn():\n    import base64\n    exec(base64.standard_b64decode(\"ZGlzcGxheShkZi5ncm91cEJ5KCJBZ2VuY3kgTmFtZSIpLmFnZyhhdmcoIlJlZ3VsYXIgR3Jvc3MgUGFpZCIpLmFsaWFzKCJBdmdfU2FsYXJ5IikpLm9yZGVyQnkoY29sKCJBdmdfU2FsYXJ5IikuZGVzYygpKSkK\").decode())\n\ntry:\n    # run user code\n    __backend_agg_user_code_fn()\n\n    #reset display function\n    display = __backend_agg_display_orig\n\n    if len(__backend_agg_dfs) > 0:\n        # create a temp view\n        if hasattr(__backend_agg_dfs[0], \"to_spark\"):\n            # koalas dataframe\n            __backend_agg_dfs[0].to_spark().createOrReplaceTempView(\"DatabricksViewd725877\")\n        elif type(__backend_agg_dfs[0]).__module__ == \"pandas.core.frame\" or isinstance(__backend_agg_dfs[0], list):\n            # pandas dataframe\n            spark.createDataFrame(__backend_agg_dfs[0]).createOrReplaceTempView(\"DatabricksViewd725877\")\n        else:\n            __backend_agg_dfs[0].createOrReplaceTempView(\"DatabricksViewd725877\")\n        #run backend agg\n        display(spark.sql(\"\"\"WITH q AS (select * from DatabricksViewd725877) SELECT `Agency Name`,SUM(`Avg_Salary`) `column_f0f145c37` FROM q GROUP BY `Agency Name`\"\"\"))\n    else:\n        displayHTML(\"dataframe no longer exists. If you're using dataframe.display(), use display(dataframe) instead.\")\n\n\nfinally:\n    spark.sql(\"drop view if exists DatabricksViewd725877\")\n    display = __backend_agg_display_orig\n    del __backend_agg_display_new\n    del __backend_agg_display_orig\n    del __backend_agg_dfs\n    del __backend_agg_user_code_fn\n\n",
       "commandTitle": "Visualization 1",
       "commandType": "auto",
       "commandVersion": 0,
       "commentThread": [],
       "commentsVisible": false,
       "contentSha256Hex": null,
       "customPlotOptions": {
        "redashChart": [
         {
          "key": "type",
          "value": "CHART"
         },
         {
          "key": "options",
          "value": {
           "alignYAxesAtZero": true,
           "coefficient": 1,
           "columnConfigurationMap": {
            "x": {
             "column": "Agency Name",
             "id": "column_f0f145c36"
            },
            "y": [
             {
              "column": "Avg_Salary",
              "id": "column_f0f145c37",
              "transform": "SUM"
             }
            ]
           },
           "dateTimeFormat": "DD/MM/YYYY HH:mm",
           "direction": {
            "type": "counterclockwise"
           },
           "error_y": {
            "type": "data",
            "visible": true
           },
           "globalSeriesType": "column",
           "isAggregationOn": true,
           "legend": {
            "traceorder": "normal"
           },
           "missingValuesAsZero": true,
           "numberFormat": "0,0[.]00000",
           "percentFormat": "0[.]00%",
           "series": {
            "error_y": {
             "type": "data",
             "visible": true
            },
            "stacking": null
           },
           "seriesOptions": {
            "column_f0f145c37": {
             "name": "Avg_Salary",
             "yAxis": 0
            }
           },
           "showDataLabels": false,
           "sizemode": "diameter",
           "sortX": false,
           "sortY": true,
           "swappedAxes": false,
           "textFormat": "",
           "useAggregationsUi": true,
           "valuesOptions": {},
           "version": 2,
           "xAxis": {
            "labels": {
             "enabled": true
            },
            "type": "-"
           },
           "yAxis": [
            {
             "type": "-"
            },
            {
             "opposite": true,
             "type": "-"
            }
           ]
          }
         }
        ]
       },
       "datasetPreviewNameToCmdIdMap": {},
       "diffDeletes": [],
       "diffInserts": [],
       "displayType": "redashChart",
       "error": null,
       "errorSummary": null,
       "errorTraceType": null,
       "finishTime": 0,
       "globalVars": {},
       "guid": "",
       "height": "auto",
       "hideCommandCode": false,
       "hideCommandResult": false,
       "iPythonMetadata": null,
       "inputWidgets": {},
       "isLockedInExamMode": false,
       "latestUser": "a user",
       "latestUserId": null,
       "listResultMetadata": null,
       "metadata": {
        "byteLimit": 2048000,
        "rowLimit": 10000
       },
       "nuid": "8c587070-7174-4dbd-bef0-bf63f190ca33",
       "origId": 0,
       "parentHierarchy": [],
       "pivotAggregation": null,
       "pivotColumns": null,
       "position": 3.6147193908691406,
       "resultDbfsErrorMessage": null,
       "resultDbfsStatus": "INLINED_IN_TREE",
       "results": null,
       "showCommandTitle": false,
       "startTime": 0,
       "state": "input",
       "streamStates": {},
       "subcommandOptions": {
        "queryPlan": {
         "groups": [
          {
           "column": "Agency Name",
           "type": "column"
          }
         ],
         "selects": [
          {
           "column": "Agency Name",
           "type": "column"
          },
          {
           "alias": "column_f0f145c37",
           "args": [
            {
             "column": "Avg_Salary",
             "type": "column"
            }
           ],
           "function": "SUM",
           "type": "function"
          }
         ]
        }
       },
       "submitTime": 0,
       "subtype": "tableResultSubCmd.visualization",
       "tableResultIndex": 0,
       "useConsistentColors": false,
       "version": "CommandV1",
       "width": "auto",
       "workflows": [],
       "xColumns": null,
       "yColumns": null
      }
     },
     "output_type": "display_data"
    }
   ],
   "source": [
    "display(df.groupBy(\"Agency Name\").agg(avg(\"Regular Gross Paid\").alias(\"Avg_Salary\")).orderBy(col(\"Avg_Salary\").desc()))\n"
   ]
  },
  {
   "cell_type": "code",
   "execution_count": 0,
   "metadata": {
    "application/vnd.databricks.v1+cell": {
     "cellMetadata": {
      "byteLimit": 2048000,
      "rowLimit": 10000
     },
     "inputWidgets": {},
     "nuid": "6a3eac12-a4db-4906-9c1d-4598a1bbf286",
     "showTitle": false,
     "title": ""
    }
   },
   "outputs": [
    {
     "output_type": "display_data",
     "data": {
      "text/html": [
       "<style scoped>\n",
       "  .table-result-container {\n",
       "    max-height: 300px;\n",
       "    overflow: auto;\n",
       "  }\n",
       "  table, th, td {\n",
       "    border: 1px solid black;\n",
       "    border-collapse: collapse;\n",
       "  }\n",
       "  th, td {\n",
       "    padding: 5px;\n",
       "  }\n",
       "  th {\n",
       "    text-align: left;\n",
       "  }\n",
       "</style><div class='table-result-container'><table class='table-result'><thead style='background-color: white'><tr><th>Work Location Borough</th><th>Avg_Salary</th></tr></thead><tbody><tr><td>MANHATTAN</td><td>78694.98970116806</td></tr><tr><td>RICHMOND</td><td>76563.48916805787</td></tr><tr><td>QUEENS</td><td>73068.7869773628</td></tr><tr><td>BROOKLYN</td><td>71271.58703179717</td></tr><tr><td>BRONX</td><td>70571.50640989789</td></tr></tbody></table></div>"
      ]
     },
     "metadata": {
      "application/vnd.databricks.v1+output": {
       "addedWidgets": {},
       "aggData": [],
       "aggError": "",
       "aggOverflow": false,
       "aggSchema": [],
       "aggSeriesLimitReached": false,
       "aggType": "",
       "arguments": {},
       "columnCustomDisplayInfos": {},
       "data": [
        [
         "MANHATTAN",
         78694.98970116806
        ],
        [
         "RICHMOND",
         76563.48916805787
        ],
        [
         "QUEENS",
         73068.7869773628
        ],
        [
         "BROOKLYN",
         71271.58703179717
        ],
        [
         "BRONX",
         70571.50640989789
        ]
       ],
       "datasetInfos": [],
       "dbfsResultPath": null,
       "isJsonSchema": true,
       "metadata": {},
       "overflow": false,
       "plotOptions": {
        "customPlotOptions": {},
        "displayType": "table",
        "pivotAggregation": null,
        "pivotColumns": null,
        "xColumns": null,
        "yColumns": null
       },
       "removedWidgets": [],
       "schema": [
        {
         "metadata": "{}",
         "name": "Work Location Borough",
         "type": "\"string\""
        },
        {
         "metadata": "{}",
         "name": "Avg_Salary",
         "type": "\"double\""
        }
       ],
       "type": "table"
      }
     },
     "output_type": "display_data"
    },
    {
     "output_type": "display_data",
     "data": {
      "text/plain": [
       "Databricks visualization. Run in Databricks to view."
      ]
     },
     "metadata": {
      "application/vnd.databricks.v1.subcommand+json": {
       "bindings": {},
       "collapsed": false,
       "command": "%python\n__backend_agg_display_orig = display\n__backend_agg_dfs = []\ndef __backend_agg_display_new(df):\n    __backend_agg_df_modules = [\"pandas.core.frame\", \"databricks.koalas.frame\", \"pyspark.sql.dataframe\", \"pyspark.pandas.frame\", \"pyspark.sql.connect.dataframe\"]\n    if (type(df).__module__ in __backend_agg_df_modules and type(df).__name__ == 'DataFrame') or isinstance(df, list):\n        __backend_agg_dfs.append(df)\n\ndisplay = __backend_agg_display_new\n\ndef __backend_agg_user_code_fn():\n    import base64\n    exec(base64.standard_b64decode(\"ZGlzcGxheShkZi5ncm91cEJ5KCJXb3JrIExvY2F0aW9uIEJvcm91Z2giKS5hZ2coYXZnKCJSZWd1bGFyIEdyb3NzIFBhaWQiKS5hbGlhcygiQXZnX1NhbGFyeSIpKS5vcmRlckJ5KGNvbCgiQXZnX1NhbGFyeSIpLmRlc2MoKSkpCg==\").decode())\n\ntry:\n    # run user code\n    __backend_agg_user_code_fn()\n\n    #reset display function\n    display = __backend_agg_display_orig\n\n    if len(__backend_agg_dfs) > 0:\n        # create a temp view\n        if hasattr(__backend_agg_dfs[0], \"to_spark\"):\n            # koalas dataframe\n            __backend_agg_dfs[0].to_spark().createOrReplaceTempView(\"DatabricksView1586ef9\")\n        elif type(__backend_agg_dfs[0]).__module__ == \"pandas.core.frame\" or isinstance(__backend_agg_dfs[0], list):\n            # pandas dataframe\n            spark.createDataFrame(__backend_agg_dfs[0]).createOrReplaceTempView(\"DatabricksView1586ef9\")\n        else:\n            __backend_agg_dfs[0].createOrReplaceTempView(\"DatabricksView1586ef9\")\n        #run backend agg\n        display(spark.sql(\"\"\"WITH q AS (select * from DatabricksView1586ef9) SELECT `Work Location Borough`,AVG(`Avg_Salary`) `column_fecfb17f28` FROM q GROUP BY `Work Location Borough`\"\"\"))\n    else:\n        displayHTML(\"dataframe no longer exists. If you're using dataframe.display(), use display(dataframe) instead.\")\n\n\nfinally:\n    spark.sql(\"drop view if exists DatabricksView1586ef9\")\n    display = __backend_agg_display_orig\n    del __backend_agg_display_new\n    del __backend_agg_display_orig\n    del __backend_agg_dfs\n    del __backend_agg_user_code_fn\n\n",
       "commandTitle": "Visualization 1",
       "commandType": "auto",
       "commandVersion": 0,
       "commentThread": [],
       "commentsVisible": false,
       "contentSha256Hex": null,
       "customPlotOptions": {
        "redashChart": [
         {
          "key": "type",
          "value": "CHART"
         },
         {
          "key": "options",
          "value": {
           "alignYAxesAtZero": true,
           "coefficient": 1,
           "columnConfigurationMap": {
            "x": {
             "column": "Work Location Borough",
             "id": "column_fecfb17f27"
            },
            "y": [
             {
              "column": "Avg_Salary",
              "id": "column_fecfb17f28",
              "transform": "AVG"
             }
            ]
           },
           "dateTimeFormat": "DD/MM/YYYY HH:mm",
           "direction": {
            "type": "counterclockwise"
           },
           "error_y": {
            "type": "data",
            "visible": true
           },
           "globalSeriesType": "column",
           "isAggregationOn": true,
           "legend": {
            "traceorder": "normal"
           },
           "missingValuesAsZero": true,
           "numBins": 10,
           "numberFormat": "0,0[.]00000",
           "percentFormat": "0[.]00%",
           "series": {
            "error_y": {
             "type": "data",
             "visible": true
            },
            "percentValues": false,
            "stacking": ""
           },
           "seriesOptions": {
            "Avg_Salary": {
             "type": "column",
             "yAxis": 0
            },
            "column_fecfb17f25": {
             "name": "Avg_Salary",
             "type": "column",
             "yAxis": 0
            },
            "column_fecfb17f28": {
             "type": "column",
             "yAxis": 0
            }
           },
           "showDataLabels": false,
           "sizemode": "diameter",
           "sortX": false,
           "sortY": true,
           "swappedAxes": false,
           "textFormat": "",
           "useAggregationsUi": true,
           "valuesOptions": {},
           "version": 2,
           "xAxis": {
            "labels": {
             "enabled": true
            },
            "type": "-"
           },
           "yAxis": [
            {
             "type": "-"
            },
            {
             "opposite": true,
             "type": "-"
            }
           ]
          }
         }
        ]
       },
       "datasetPreviewNameToCmdIdMap": {},
       "diffDeletes": [],
       "diffInserts": [],
       "displayType": "redashChart",
       "error": null,
       "errorSummary": null,
       "errorTraceType": null,
       "finishTime": 0,
       "globalVars": {},
       "guid": "",
       "height": "auto",
       "hideCommandCode": false,
       "hideCommandResult": false,
       "iPythonMetadata": null,
       "inputWidgets": {},
       "isLockedInExamMode": false,
       "latestUser": "a user",
       "latestUserId": null,
       "listResultMetadata": null,
       "metadata": {
        "byteLimit": 2048000,
        "rowLimit": 10000
       },
       "nuid": "06cd4044-48f3-48d5-83b5-aaced7c7eed1",
       "origId": 0,
       "parentHierarchy": [],
       "pivotAggregation": null,
       "pivotColumns": null,
       "position": 3.614933967590332,
       "resultDbfsErrorMessage": null,
       "resultDbfsStatus": "INLINED_IN_TREE",
       "results": null,
       "showCommandTitle": false,
       "startTime": 0,
       "state": "input",
       "streamStates": {},
       "subcommandOptions": {
        "queryPlan": {
         "groups": [
          {
           "column": "Work Location Borough",
           "type": "column"
          }
         ],
         "selects": [
          {
           "column": "Work Location Borough",
           "type": "column"
          },
          {
           "alias": "column_fecfb17f28",
           "args": [
            {
             "column": "Avg_Salary",
             "type": "column"
            }
           ],
           "function": "AVG",
           "type": "function"
          }
         ]
        }
       },
       "submitTime": 0,
       "subtype": "tableResultSubCmd.visualization",
       "tableResultIndex": 0,
       "useConsistentColors": false,
       "version": "CommandV1",
       "width": "auto",
       "workflows": [],
       "xColumns": null,
       "yColumns": null
      }
     },
     "output_type": "display_data"
    }
   ],
   "source": [
    "display(df.groupBy(\"Work Location Borough\").agg(avg(\"Regular Gross Paid\").alias(\"Avg_Salary\")).orderBy(col(\"Avg_Salary\").desc()))\n"
   ]
  },
  {
   "cell_type": "code",
   "execution_count": 0,
   "metadata": {
    "application/vnd.databricks.v1+cell": {
     "cellMetadata": {
      "byteLimit": 2048000,
      "rowLimit": 10000
     },
     "inputWidgets": {},
     "nuid": "00788a13-16e6-4854-8057-ccff9a3c6e5f",
     "showTitle": false,
     "title": ""
    }
   },
   "outputs": [
    {
     "output_type": "display_data",
     "data": {
      "text/html": [
       "<style scoped>\n",
       "  .table-result-container {\n",
       "    max-height: 300px;\n",
       "    overflow: auto;\n",
       "  }\n",
       "  table, th, td {\n",
       "    border: 1px solid black;\n",
       "    border-collapse: collapse;\n",
       "  }\n",
       "  th, td {\n",
       "    padding: 5px;\n",
       "  }\n",
       "  th {\n",
       "    text-align: left;\n",
       "  }\n",
       "</style><div class='table-result-container'><table class='table-result'><thead style='background-color: white'><tr><th>Title Description</th><th>Avg_Salary</th></tr></thead><tbody><tr><td>CAPTAIN</td><td>117025.41448644374</td></tr><tr><td>LIEUTENANT</td><td>114329.11427034235</td></tr><tr><td>SERGEANT-</td><td>105090.68398722565</td></tr><tr><td>P.O. DA DET GR3</td><td>97554.02021516723</td></tr><tr><td>FIREFIGHTER</td><td>77614.2160556204</td></tr><tr><td>CORRECTION OFFICER</td><td>72951.42560440215</td></tr><tr><td>POLICE OFFICER</td><td>69578.52396770465</td></tr><tr><td>SANITATION WORKER</td><td>66691.18563707253</td></tr><tr><td>EMERGENCY MEDICAL SPECIALIST-EMT</td><td>44540.60889411239</td></tr><tr><td>SCHOOL SAFETY AGENT</td><td>42936.641086837044</td></tr><tr><td>CARETAKER</td><td>36425.094031706976</td></tr></tbody></table></div>"
      ]
     },
     "metadata": {
      "application/vnd.databricks.v1+output": {
       "addedWidgets": {},
       "aggData": [],
       "aggError": "",
       "aggOverflow": false,
       "aggSchema": [],
       "aggSeriesLimitReached": false,
       "aggType": "",
       "arguments": {},
       "columnCustomDisplayInfos": {},
       "data": [
        [
         "CAPTAIN",
         117025.41448644374
        ],
        [
         "LIEUTENANT",
         114329.11427034235
        ],
        [
         "SERGEANT-",
         105090.68398722565
        ],
        [
         "P.O. DA DET GR3",
         97554.02021516723
        ],
        [
         "FIREFIGHTER",
         77614.2160556204
        ],
        [
         "CORRECTION OFFICER",
         72951.42560440215
        ],
        [
         "POLICE OFFICER",
         69578.52396770465
        ],
        [
         "SANITATION WORKER",
         66691.18563707253
        ],
        [
         "EMERGENCY MEDICAL SPECIALIST-EMT",
         44540.60889411239
        ],
        [
         "SCHOOL SAFETY AGENT",
         42936.641086837044
        ],
        [
         "CARETAKER",
         36425.094031706976
        ]
       ],
       "datasetInfos": [],
       "dbfsResultPath": null,
       "isJsonSchema": true,
       "metadata": {},
       "overflow": false,
       "plotOptions": {
        "customPlotOptions": {},
        "displayType": "table",
        "pivotAggregation": null,
        "pivotColumns": null,
        "xColumns": null,
        "yColumns": null
       },
       "removedWidgets": [],
       "schema": [
        {
         "metadata": "{}",
         "name": "Title Description",
         "type": "\"string\""
        },
        {
         "metadata": "{}",
         "name": "Avg_Salary",
         "type": "\"double\""
        }
       ],
       "type": "table"
      }
     },
     "output_type": "display_data"
    },
    {
     "output_type": "display_data",
     "data": {
      "text/plain": [
       "Databricks visualization. Run in Databricks to view."
      ]
     },
     "metadata": {
      "application/vnd.databricks.v1.subcommand+json": {
       "bindings": {},
       "collapsed": false,
       "command": "%python\n__backend_agg_display_orig = display\n__backend_agg_dfs = []\ndef __backend_agg_display_new(df):\n    __backend_agg_df_modules = [\"pandas.core.frame\", \"databricks.koalas.frame\", \"pyspark.sql.dataframe\", \"pyspark.pandas.frame\", \"pyspark.sql.connect.dataframe\"]\n    if (type(df).__module__ in __backend_agg_df_modules and type(df).__name__ == 'DataFrame') or isinstance(df, list):\n        __backend_agg_dfs.append(df)\n\ndisplay = __backend_agg_display_new\n\ndef __backend_agg_user_code_fn():\n    import base64\n    exec(base64.standard_b64decode(\"ZGlzcGxheShkZi5ncm91cEJ5KCJUaXRsZSBEZXNjcmlwdGlvbiIpLmFnZyhhdmcoIlJlZ3VsYXIgR3Jvc3MgUGFpZCIpLmFsaWFzKCJBdmdfU2FsYXJ5IikpLm9yZGVyQnkoY29sKCJBdmdfU2FsYXJ5IikuZGVzYygpKSkK\").decode())\n\ntry:\n    # run user code\n    __backend_agg_user_code_fn()\n\n    #reset display function\n    display = __backend_agg_display_orig\n\n    if len(__backend_agg_dfs) > 0:\n        # create a temp view\n        if hasattr(__backend_agg_dfs[0], \"to_spark\"):\n            # koalas dataframe\n            __backend_agg_dfs[0].to_spark().createOrReplaceTempView(\"DatabricksView65a4cb3\")\n        elif type(__backend_agg_dfs[0]).__module__ == \"pandas.core.frame\" or isinstance(__backend_agg_dfs[0], list):\n            # pandas dataframe\n            spark.createDataFrame(__backend_agg_dfs[0]).createOrReplaceTempView(\"DatabricksView65a4cb3\")\n        else:\n            __backend_agg_dfs[0].createOrReplaceTempView(\"DatabricksView65a4cb3\")\n        #run backend agg\n        display(spark.sql(\"\"\"WITH q AS (select * from DatabricksView65a4cb3) SELECT `Title Description`,AVG(`Avg_Salary`) `column_c21342133` FROM q GROUP BY `Title Description`\"\"\"))\n    else:\n        displayHTML(\"dataframe no longer exists. If you're using dataframe.display(), use display(dataframe) instead.\")\n\n\nfinally:\n    spark.sql(\"drop view if exists DatabricksView65a4cb3\")\n    display = __backend_agg_display_orig\n    del __backend_agg_display_new\n    del __backend_agg_display_orig\n    del __backend_agg_dfs\n    del __backend_agg_user_code_fn\n\n",
       "commandTitle": "Visualization 1",
       "commandType": "auto",
       "commandVersion": 0,
       "commentThread": [],
       "commentsVisible": false,
       "contentSha256Hex": null,
       "customPlotOptions": {
        "redashChart": [
         {
          "key": "type",
          "value": "CHART"
         },
         {
          "key": "options",
          "value": {
           "alignYAxesAtZero": true,
           "coefficient": 1,
           "columnConfigurationMap": {
            "x": {
             "column": "Title Description",
             "id": "column_c21342131"
            },
            "y": [
             {
              "column": "Avg_Salary",
              "id": "column_c21342133",
              "transform": "AVG"
             }
            ]
           },
           "dateTimeFormat": "DD/MM/YYYY HH:mm",
           "direction": {
            "type": "counterclockwise"
           },
           "error_y": {
            "type": "data",
            "visible": true
           },
           "globalSeriesType": "column",
           "isAggregationOn": true,
           "legend": {
            "traceorder": "normal"
           },
           "missingValuesAsZero": true,
           "numberFormat": "0,0[.]00000",
           "percentFormat": "0[.]00%",
           "series": {
            "error_y": {
             "type": "data",
             "visible": true
            },
            "stacking": null
           },
           "seriesOptions": {
            "column_c21342133": {
             "type": "column",
             "yAxis": 0
            }
           },
           "showDataLabels": false,
           "sizemode": "diameter",
           "sortX": false,
           "sortY": true,
           "swappedAxes": false,
           "textFormat": "",
           "useAggregationsUi": true,
           "valuesOptions": {},
           "version": 2,
           "xAxis": {
            "labels": {
             "enabled": true
            },
            "type": "-"
           },
           "yAxis": [
            {
             "type": "-"
            },
            {
             "opposite": true,
             "type": "-"
            }
           ]
          }
         }
        ]
       },
       "datasetPreviewNameToCmdIdMap": {},
       "diffDeletes": [],
       "diffInserts": [],
       "displayType": "redashChart",
       "error": null,
       "errorSummary": null,
       "errorTraceType": null,
       "finishTime": 0,
       "globalVars": {},
       "guid": "",
       "height": "auto",
       "hideCommandCode": false,
       "hideCommandResult": false,
       "iPythonMetadata": null,
       "inputWidgets": {},
       "isLockedInExamMode": false,
       "latestUser": "a user",
       "latestUserId": null,
       "listResultMetadata": null,
       "metadata": {
        "byteLimit": 2048000,
        "rowLimit": 10000
       },
       "nuid": "933c3da0-0740-4617-bded-82871331fe54",
       "origId": 0,
       "parentHierarchy": [],
       "pivotAggregation": null,
       "pivotColumns": null,
       "position": 3.618767738342285,
       "resultDbfsErrorMessage": null,
       "resultDbfsStatus": "INLINED_IN_TREE",
       "results": null,
       "showCommandTitle": false,
       "startTime": 0,
       "state": "input",
       "streamStates": {},
       "subcommandOptions": {
        "queryPlan": {
         "groups": [
          {
           "column": "Title Description",
           "type": "column"
          }
         ],
         "selects": [
          {
           "column": "Title Description",
           "type": "column"
          },
          {
           "alias": "column_c21342133",
           "args": [
            {
             "column": "Avg_Salary",
             "type": "column"
            }
           ],
           "function": "AVG",
           "type": "function"
          }
         ]
        }
       },
       "submitTime": 0,
       "subtype": "tableResultSubCmd.visualization",
       "tableResultIndex": 0,
       "useConsistentColors": false,
       "version": "CommandV1",
       "width": "auto",
       "workflows": [],
       "xColumns": null,
       "yColumns": null
      }
     },
     "output_type": "display_data"
    }
   ],
   "source": [
    "display(df.groupBy(\"Title Description\").agg(avg(\"Regular Gross Paid\").alias(\"Avg_Salary\")).orderBy(col(\"Avg_Salary\").desc()))\n"
   ]
  },
  {
   "cell_type": "code",
   "execution_count": 0,
   "metadata": {
    "application/vnd.databricks.v1+cell": {
     "cellMetadata": {
      "byteLimit": 2048000,
      "rowLimit": 10000
     },
     "inputWidgets": {},
     "nuid": "0a554fab-8867-4908-84b2-3d6f219770c1",
     "showTitle": false,
     "title": ""
    }
   },
   "outputs": [],
   "source": [
    "table_name = \"FISCAL_SALARY\"\n",
    "#noNullsDF.write.format(\"parquet\").saveAsTable(table_name)"
   ]
  },
  {
   "cell_type": "markdown",
   "metadata": {
    "application/vnd.databricks.v1+cell": {
     "cellMetadata": {
      "byteLimit": 2048000,
      "rowLimit": 10000
     },
     "inputWidgets": {},
     "nuid": "e8aa021e-97db-4ed4-ab6b-e4d8bf45040b",
     "showTitle": false,
     "title": ""
    }
   },
   "source": [
    "### Preprocessing Data\n"
   ]
  },
  {
   "cell_type": "code",
   "execution_count": 0,
   "metadata": {
    "application/vnd.databricks.v1+cell": {
     "cellMetadata": {
      "byteLimit": 2048000,
      "rowLimit": 10000
     },
     "inputWidgets": {},
     "nuid": "433f8e2e-7cce-4b26-adcc-ab203d3e7995",
     "showTitle": false,
     "title": ""
    }
   },
   "outputs": [],
   "source": [
    "trainDF, testDF = df.randomSplit([.8, .2], seed=42)"
   ]
  },
  {
   "cell_type": "code",
   "execution_count": 0,
   "metadata": {
    "application/vnd.databricks.v1+cell": {
     "cellMetadata": {
      "byteLimit": 2048000,
      "rowLimit": 10000
     },
     "inputWidgets": {},
     "nuid": "e3245571-a459-456b-a93d-b856fd91039f",
     "showTitle": false,
     "title": ""
    }
   },
   "outputs": [
    {
     "output_type": "stream",
     "name": "stdout",
     "output_type": "stream",
     "text": [
      "44616\n178973\n"
     ]
    }
   ],
   "source": [
    "print(testDF.count())\n",
    "print(trainDF.count())"
   ]
  },
  {
   "cell_type": "code",
   "execution_count": 0,
   "metadata": {
    "application/vnd.databricks.v1+cell": {
     "cellMetadata": {
      "byteLimit": 2048000,
      "rowLimit": 10000
     },
     "inputWidgets": {},
     "nuid": "53dda1e2-aa67-4fdb-8789-fa7905a42f48",
     "showTitle": false,
     "title": ""
    }
   },
   "outputs": [],
   "source": [
    "from pyspark.ml.feature import StringIndexer, VectorAssembler\n",
    "\n",
    "categoricalCols = [field for (field, dataType) in trainDF.dtypes if dataType == \"string\"]\n",
    "\n",
    "indexOutputCols = [x + \"Index\" for x in categoricalCols]\n",
    "stringIndexer = StringIndexer(inputCols=categoricalCols, outputCols=indexOutputCols, handleInvalid=\"skip\")\n",
    "\n",
    "numericCols = [field for (field, dataType) in trainDF.dtypes if ((dataType == \"double\") & (field != \"Gross Regular Paid\"))]\n",
    "\n",
    "assemblerInputs = indexOutputCols + numericCols\n",
    "vecAssembler = VectorAssembler(inputCols=assemblerInputs, outputCol=\"features\")"
   ]
  },
  {
   "cell_type": "markdown",
   "metadata": {
    "application/vnd.databricks.v1+cell": {
     "cellMetadata": {
      "byteLimit": 2048000,
      "rowLimit": 10000
     },
     "inputWidgets": {},
     "nuid": "07b84bdc-fdf3-4e3b-b4eb-a732c0027cf7",
     "showTitle": false,
     "title": ""
    }
   },
   "source": [
    "### Gradient Boosted Trees Regression"
   ]
  },
  {
   "cell_type": "code",
   "execution_count": 0,
   "metadata": {
    "application/vnd.databricks.v1+cell": {
     "cellMetadata": {
      "byteLimit": 2048000,
      "rowLimit": 10000
     },
     "inputWidgets": {},
     "nuid": "cb83507b-d07f-4ac7-a043-fee004202e93",
     "showTitle": false,
     "title": ""
    }
   },
   "outputs": [],
   "source": [
    "from pyspark.ml import Pipeline\n",
    "from pyspark.ml.regression import GBTRegressor\n",
    "from pyspark.ml.feature import VectorIndexer\n",
    "from pyspark.ml.evaluation import RegressionEvaluator"
   ]
  },
  {
   "cell_type": "code",
   "execution_count": 0,
   "metadata": {
    "application/vnd.databricks.v1+cell": {
     "cellMetadata": {
      "byteLimit": 2048000,
      "rowLimit": 10000
     },
     "inputWidgets": {},
     "nuid": "1d26440c-6f1f-453b-a7a2-a491715d6314",
     "showTitle": false,
     "title": ""
    }
   },
   "outputs": [],
   "source": [
    "gbt = GBTRegressor(labelCol=\"Regular Gross Paid\", maxIter=10, featuresCol=\"features\")"
   ]
  },
  {
   "cell_type": "code",
   "execution_count": 0,
   "metadata": {
    "application/vnd.databricks.v1+cell": {
     "cellMetadata": {
      "byteLimit": 2048000,
      "rowLimit": 10000
     },
     "inputWidgets": {},
     "nuid": "5fcac2ea-6cbd-4eaa-84bc-1a29d9db2f17",
     "showTitle": false,
     "title": ""
    }
   },
   "outputs": [],
   "source": [
    "from pyspark.ml import Pipeline\n",
    "pipeline = Pipeline(stages=[stringIndexer,vecAssembler, gbt])\n"
   ]
  },
  {
   "cell_type": "code",
   "execution_count": 0,
   "metadata": {
    "application/vnd.databricks.v1+cell": {
     "cellMetadata": {
      "byteLimit": 2048000,
      "rowLimit": 10000
     },
     "inputWidgets": {},
     "nuid": "30ae3547-7d1c-4773-b0c8-9ac25f64bc66",
     "showTitle": false,
     "title": ""
    }
   },
   "outputs": [],
   "source": [
    "model = pipeline.fit(trainDF)"
   ]
  },
  {
   "cell_type": "code",
   "execution_count": 0,
   "metadata": {
    "application/vnd.databricks.v1+cell": {
     "cellMetadata": {
      "byteLimit": 2048000,
      "rowLimit": 10000
     },
     "inputWidgets": {},
     "nuid": "0614bcfa-7798-4db5-b856-e1fa6eebd40a",
     "showTitle": false,
     "title": ""
    }
   },
   "outputs": [],
   "source": [
    "pred= model.transform(testDF)"
   ]
  },
  {
   "cell_type": "code",
   "execution_count": 0,
   "metadata": {
    "application/vnd.databricks.v1+cell": {
     "cellMetadata": {
      "byteLimit": 2048000,
      "rowLimit": 10000
     },
     "inputWidgets": {},
     "nuid": "416b4501-877a-49f5-b8ca-a013b0ae4cce",
     "showTitle": false,
     "title": ""
    }
   },
   "outputs": [
    {
     "output_type": "stream",
     "name": "stdout",
     "output_type": "stream",
     "text": [
      "+--------------------+------------------+------------------+\n|            features|Regular Gross Paid|        prediction|\n+--------------------+------------------+------------------+\n|[3.0,3.0,3.0,1952...|           79532.7| 78788.80092707623|\n|[3.0,3.0,3.0,2080...|           66949.1| 67276.81760499463|\n|[3.0,2.0,2.0,1405...|           24998.8| 26736.25681986374|\n|[3.0,2.0,2.0,2080...|          75836.92| 74272.00506463072|\n|[3.0,2.0,2.0,2085...|          41096.53| 40589.49949711799|\n|[3.0,1.0,8.0,705....|          12607.58|15185.352978628509|\n|[3.0,1.0,8.0,2239...|          46380.46| 46087.76450023704|\n|[3.0,1.0,1.0,2045...|          85058.22| 84910.08515817893|\n|[3.0,1.0,1.0,2080...|          54838.72| 53515.18494073205|\n|[3.0,1.0,1.0,2080...|          84831.14| 84800.27283982863|\n|[3.0,1.0,1.0,2080...|          107815.2|105584.88409309446|\n|[3.0,1.0,1.0,2080...|          72201.24| 69985.63745284909|\n|[3.0,1.0,1.0,2080...|          85051.84| 84934.91966111492|\n|[3.0,1.0,1.0,2080...|         106651.71|105584.88409309446|\n|[3.0,1.0,1.0,2085...|          85058.23| 84934.91966111492|\n|[3.0,1.0,7.0,2080...|         127655.43|126102.68540323613|\n|[3.0,4.0,9.0,2080...|          44213.54| 44045.14406948496|\n|[3.0,0.0,0.0,2040...|          85058.23| 84964.49455684208|\n|[3.0,0.0,0.0,2040...|          60921.62|60895.945945609914|\n|[3.0,0.0,0.0,2045...|          59059.82|57461.755303887934|\n+--------------------+------------------+------------------+\nonly showing top 20 rows\n\n"
     ]
    }
   ],
   "source": [
    "pred.select(\"features\", \"Regular Gross Paid\", \"prediction\").show()"
   ]
  },
  {
   "cell_type": "code",
   "execution_count": 0,
   "metadata": {
    "application/vnd.databricks.v1+cell": {
     "cellMetadata": {
      "byteLimit": 2048000,
      "rowLimit": 10000
     },
     "inputWidgets": {},
     "nuid": "4297f166-e665-4d15-bd0d-42b9aba155e1",
     "showTitle": false,
     "title": ""
    }
   },
   "outputs": [
    {
     "output_type": "stream",
     "name": "stdout",
     "output_type": "stream",
     "text": [
      "1531.3997480772275\n0.9963841700338091\n"
     ]
    }
   ],
   "source": [
    "from pyspark.ml.tuning import ParamGridBuilder\n",
    "paramGrid = ParamGridBuilder().addGrid(gbt.maxDepth, [2, 5]).addGrid(gbt.maxIter, [10, 100]).build()\n",
    "\n",
    "evaluator = RegressionEvaluator(labelCol=\"Regular Gross Paid\", predictionCol=\"prediction\", metricName=\"rmse\")\n",
    "\n",
    "rmse = evaluator.evaluate(pred)\n",
    "r2 = evaluator.setMetricName(\"r2\").evaluate(pred)\n",
    "\n",
    "print(rmse)\n",
    "print(r2)"
   ]
  },
  {
   "cell_type": "code",
   "execution_count": 0,
   "metadata": {
    "application/vnd.databricks.v1+cell": {
     "cellMetadata": {
      "byteLimit": 2048000,
      "rowLimit": 10000
     },
     "inputWidgets": {},
     "nuid": "41f5936e-a63a-4d0a-adb3-308fd069c45d",
     "showTitle": false,
     "title": ""
    }
   },
   "outputs": [
    {
     "output_type": "display_data",
     "data": {
      "text/html": [
       "<style scoped>\n",
       "  .table-result-container {\n",
       "    max-height: 300px;\n",
       "    overflow: auto;\n",
       "  }\n",
       "  table, th, td {\n",
       "    border: 1px solid black;\n",
       "    border-collapse: collapse;\n",
       "  }\n",
       "  th, td {\n",
       "    padding: 5px;\n",
       "  }\n",
       "  th {\n",
       "    text-align: left;\n",
       "  }\n",
       "</style><div class='table-result-container'><table class='table-result'><thead style='background-color: white'><tr><th>avg(residual)</th></tr></thead><tbody><tr><td>-1.5446005075490725</td></tr></tbody></table></div>"
      ]
     },
     "metadata": {
      "application/vnd.databricks.v1+output": {
       "addedWidgets": {},
       "aggData": [],
       "aggError": "",
       "aggOverflow": false,
       "aggSchema": [],
       "aggSeriesLimitReached": false,
       "aggType": "",
       "arguments": {},
       "columnCustomDisplayInfos": {},
       "data": [
        [
         -1.5446005075490725
        ]
       ],
       "datasetInfos": [],
       "dbfsResultPath": null,
       "isJsonSchema": true,
       "metadata": {},
       "overflow": false,
       "plotOptions": {
        "customPlotOptions": {},
        "displayType": "table",
        "pivotAggregation": null,
        "pivotColumns": null,
        "xColumns": null,
        "yColumns": null
       },
       "removedWidgets": [],
       "schema": [
        {
         "metadata": "{}",
         "name": "avg(residual)",
         "type": "\"double\""
        }
       ],
       "type": "table"
      }
     },
     "output_type": "display_data"
    }
   ],
   "source": [
    "import pyspark.sql.functions as F\n",
    "\n",
    "residuals = pred.withColumn(\"residual\", (F.col(\"Regular Gross Paid\") - F.col(\"prediction\")))\n",
    "display(residuals.agg({'residual': 'mean'}))"
   ]
  },
  {
   "cell_type": "code",
   "execution_count": 0,
   "metadata": {
    "application/vnd.databricks.v1+cell": {
     "cellMetadata": {
      "byteLimit": 2048000,
      "rowLimit": 10000
     },
     "inputWidgets": {},
     "nuid": "b4ce31a3-df70-43e7-8af5-7c10fd155a05",
     "showTitle": false,
     "title": ""
    }
   },
   "outputs": [
    {
     "output_type": "display_data",
     "data": {
      "text/html": [
       "<style scoped>\n",
       "  .table-result-container {\n",
       "    max-height: 300px;\n",
       "    overflow: auto;\n",
       "  }\n",
       "  table, th, td {\n",
       "    border: 1px solid black;\n",
       "    border-collapse: collapse;\n",
       "  }\n",
       "  th, td {\n",
       "    padding: 5px;\n",
       "  }\n",
       "  th {\n",
       "    text-align: left;\n",
       "  }\n",
       "</style><div class='table-result-container'><table class='table-result'><thead style='background-color: white'><tr><th>prediction</th><th>residual</th></tr></thead><tbody><tr><td>81063.53292932124</td><td>-1530.8329293212446</td></tr><tr><td>73402.04629638793</td><td>-6452.94629638792</td></tr><tr><td>27215.88303701086</td><td>-2217.0830370108597</td></tr><tr><td>76607.77316028628</td><td>-770.8531602862786</td></tr><tr><td>44515.82719220669</td><td>-3419.2971922066936</td></tr><tr><td>17727.80255808838</td><td>-5120.2225580883805</td></tr><tr><td>46031.18789976569</td><td>349.2721002343096</td></tr><tr><td>85626.48860629727</td><td>-568.2686062972643</td></tr><tr><td>55372.622225957966</td><td>-533.9022259579651</td></tr><tr><td>85860.06621383007</td><td>-1028.9262138300692</td></tr></tbody></table></div>"
      ]
     },
     "metadata": {
      "application/vnd.databricks.v1+output": {
       "addedWidgets": {},
       "aggData": [],
       "aggError": "",
       "aggOverflow": false,
       "aggSchema": [],
       "aggSeriesLimitReached": false,
       "aggType": "",
       "arguments": {},
       "columnCustomDisplayInfos": {},
       "data": [
        [
         81063.53292932124,
         -1530.8329293212446
        ],
        [
         73402.04629638793,
         -6452.94629638792
        ],
        [
         27215.88303701086,
         -2217.0830370108597
        ],
        [
         76607.77316028628,
         -770.8531602862786
        ],
        [
         44515.82719220669,
         -3419.2971922066936
        ],
        [
         17727.80255808838,
         -5120.2225580883805
        ],
        [
         46031.18789976569,
         349.2721002343096
        ],
        [
         85626.48860629727,
         -568.2686062972643
        ],
        [
         55372.622225957966,
         -533.9022259579651
        ],
        [
         85860.06621383007,
         -1028.9262138300692
        ]
       ],
       "datasetInfos": [],
       "dbfsResultPath": null,
       "isJsonSchema": true,
       "metadata": {},
       "overflow": false,
       "plotOptions": {
        "customPlotOptions": {},
        "displayType": "table",
        "pivotAggregation": null,
        "pivotColumns": null,
        "xColumns": null,
        "yColumns": null
       },
       "removedWidgets": [],
       "schema": [
        {
         "metadata": "{\"ml_attr\":{}}",
         "name": "prediction",
         "type": "\"double\""
        },
        {
         "metadata": "{}",
         "name": "residual",
         "type": "\"double\""
        }
       ],
       "type": "table"
      }
     },
     "output_type": "display_data"
    },
    {
     "output_type": "display_data",
     "data": {
      "text/plain": [
       "Databricks visualization. Run in Databricks to view."
      ]
     },
     "metadata": {
      "application/vnd.databricks.v1.subcommand+json": {
       "bindings": {},
       "collapsed": false,
       "command": "%python\n__backend_agg_display_orig = display\n__backend_agg_dfs = []\ndef __backend_agg_display_new(df):\n    __backend_agg_df_modules = [\"pandas.core.frame\", \"databricks.koalas.frame\", \"pyspark.sql.dataframe\", \"pyspark.pandas.frame\", \"pyspark.sql.connect.dataframe\"]\n    if (type(df).__module__ in __backend_agg_df_modules and type(df).__name__ == 'DataFrame') or isinstance(df, list):\n        __backend_agg_dfs.append(df)\n\ndisplay = __backend_agg_display_new\n\ndef __backend_agg_user_code_fn():\n    import base64\n    exec(base64.standard_b64decode(\"ZGlzcGxheShyZXNpZHVhbHMuc2VsZWN0KCJwcmVkaWN0aW9uIiwgInJlc2lkdWFsIikp\").decode())\n\ntry:\n    # run user code\n    __backend_agg_user_code_fn()\n\n    #reset display function\n    display = __backend_agg_display_orig\n\n    if len(__backend_agg_dfs) > 0:\n        # create a temp view\n        if hasattr(__backend_agg_dfs[0], \"to_spark\"):\n            # koalas dataframe\n            __backend_agg_dfs[0].to_spark().createOrReplaceTempView(\"DatabricksView9e9eea4\")\n        elif type(__backend_agg_dfs[0]).__module__ == \"pandas.core.frame\" or isinstance(__backend_agg_dfs[0], list):\n            # pandas dataframe\n            spark.createDataFrame(__backend_agg_dfs[0]).createOrReplaceTempView(\"DatabricksView9e9eea4\")\n        else:\n            __backend_agg_dfs[0].createOrReplaceTempView(\"DatabricksView9e9eea4\")\n        #run backend agg\n        display(spark.sql(\"\"\"WITH q AS (select * from DatabricksView9e9eea4) SELECT `prediction`,`residual` FROM q\"\"\"))\n    else:\n        displayHTML(\"dataframe no longer exists. If you're using dataframe.display(), use display(dataframe) instead.\")\n\n\nfinally:\n    spark.sql(\"drop view if exists DatabricksView9e9eea4\")\n    display = __backend_agg_display_orig\n    del __backend_agg_display_new\n    del __backend_agg_display_orig\n    del __backend_agg_dfs\n    del __backend_agg_user_code_fn\n\n",
       "commandTitle": "Visualization 1",
       "commandType": "auto",
       "commandVersion": 0,
       "commentThread": [],
       "commentsVisible": false,
       "contentSha256Hex": null,
       "customPlotOptions": {
        "redashChart": [
         {
          "key": "type",
          "value": "CHART"
         },
         {
          "key": "options",
          "value": {
           "alignYAxesAtZero": true,
           "coefficient": 1,
           "columnConfigurationMap": {
            "x": {
             "column": "prediction",
             "id": "column_f0f145c314"
            },
            "y": [
             {
              "column": "residual",
              "id": "column_f0f145c315"
             }
            ]
           },
           "dateTimeFormat": "DD/MM/YYYY HH:mm",
           "direction": {
            "type": "counterclockwise"
           },
           "error_y": {
            "type": "data",
            "visible": true
           },
           "globalSeriesType": "scatter",
           "legend": {
            "traceorder": "normal"
           },
           "missingValuesAsZero": true,
           "numberFormat": "0,0[.]00000",
           "percentFormat": "0[.]00%",
           "series": {
            "error_y": {
             "type": "data",
             "visible": true
            },
            "stacking": null
           },
           "seriesOptions": {
            "column_f0f145c315": {
             "name": "residual",
             "yAxis": 0
            }
           },
           "showDataLabels": false,
           "sizemode": "diameter",
           "sortX": true,
           "sortY": true,
           "swappedAxes": false,
           "textFormat": "",
           "useAggregationsUi": true,
           "valuesOptions": {},
           "version": 2,
           "xAxis": {
            "labels": {
             "enabled": true
            },
            "type": "-"
           },
           "yAxis": [
            {
             "type": "-"
            },
            {
             "opposite": true,
             "type": "-"
            }
           ]
          }
         }
        ]
       },
       "datasetPreviewNameToCmdIdMap": {},
       "diffDeletes": [],
       "diffInserts": [],
       "displayType": "redashChart",
       "error": null,
       "errorSummary": null,
       "errorTraceType": null,
       "finishTime": 0,
       "globalVars": {},
       "guid": "",
       "height": "auto",
       "hideCommandCode": false,
       "hideCommandResult": false,
       "iPythonMetadata": null,
       "inputWidgets": {},
       "isLockedInExamMode": false,
       "latestUser": "a user",
       "latestUserId": null,
       "listResultMetadata": null,
       "metadata": {
        "byteLimit": 2048000,
        "rowLimit": 10000
       },
       "nuid": "e98a63b8-0b8b-4e22-874d-b7e7c78a2dc5",
       "origId": 0,
       "parentHierarchy": [],
       "pivotAggregation": null,
       "pivotColumns": null,
       "position": 21.622472763061523,
       "resultDbfsErrorMessage": null,
       "resultDbfsStatus": "INLINED_IN_TREE",
       "results": null,
       "showCommandTitle": false,
       "startTime": 0,
       "state": "input",
       "streamStates": {},
       "subcommandOptions": {
        "queryPlan": {
         "selects": [
          {
           "column": "prediction",
           "type": "column"
          },
          {
           "column": "residual",
           "type": "column"
          }
         ]
        }
       },
       "submitTime": 0,
       "subtype": "tableResultSubCmd.visualization",
       "tableResultIndex": 0,
       "useConsistentColors": false,
       "version": "CommandV1",
       "width": "auto",
       "workflows": [],
       "xColumns": null,
       "yColumns": null
      }
     },
     "output_type": "display_data"
    }
   ],
   "source": [
    "display(residuals.select(\"prediction\", \"residual\").limit(10))"
   ]
  },
  {
   "cell_type": "markdown",
   "metadata": {
    "application/vnd.databricks.v1+cell": {
     "cellMetadata": {
      "byteLimit": 2048000,
      "rowLimit": 10000
     },
     "inputWidgets": {},
     "nuid": "89669b54-1519-45bc-8794-d90522dc2f64",
     "showTitle": false,
     "title": ""
    }
   },
   "source": [
    "\n",
    "### Random Forest Regression"
   ]
  },
  {
   "cell_type": "code",
   "execution_count": 0,
   "metadata": {
    "application/vnd.databricks.v1+cell": {
     "cellMetadata": {
      "byteLimit": 2048000,
      "rowLimit": 10000
     },
     "inputWidgets": {},
     "nuid": "4b1ca269-5c46-4887-ba5f-22045a0f48b6",
     "showTitle": false,
     "title": ""
    }
   },
   "outputs": [],
   "source": [
    "from pyspark.ml.regression import RandomForestRegressor\n",
    "rf = RandomForestRegressor(labelCol=\"Regular Gross Paid\", maxBins=40, seed=42)\n",
    "pipeline = Pipeline(stages = [stringIndexer, vecAssembler, rf])"
   ]
  },
  {
   "cell_type": "code",
   "execution_count": 0,
   "metadata": {
    "application/vnd.databricks.v1+cell": {
     "cellMetadata": {
      "byteLimit": 2048000,
      "rowLimit": 10000
     },
     "inputWidgets": {},
     "nuid": "0800ad1e-04ff-4463-b9a6-7eb8f856fa93",
     "showTitle": false,
     "title": ""
    }
   },
   "outputs": [],
   "source": [
    "model = pipeline.fit(trainDF)"
   ]
  },
  {
   "cell_type": "code",
   "execution_count": 0,
   "metadata": {
    "application/vnd.databricks.v1+cell": {
     "cellMetadata": {
      "byteLimit": 2048000,
      "rowLimit": 10000
     },
     "inputWidgets": {},
     "nuid": "1f3e1e18-dc07-4cf2-aa04-87660de7cc9e",
     "showTitle": false,
     "title": ""
    }
   },
   "outputs": [],
   "source": [
    "pred= model.transform(testDF)"
   ]
  },
  {
   "cell_type": "code",
   "execution_count": 0,
   "metadata": {
    "application/vnd.databricks.v1+cell": {
     "cellMetadata": {
      "byteLimit": 2048000,
      "rowLimit": 10000
     },
     "inputWidgets": {},
     "nuid": "4bd46492-1b34-4cb8-a86c-3bcefd1fb153",
     "showTitle": false,
     "title": ""
    }
   },
   "outputs": [
    {
     "output_type": "stream",
     "name": "stdout",
     "output_type": "stream",
     "text": [
      "3508.2342378381754\n0.9810238535975079\n"
     ]
    }
   ],
   "source": [
    "evaluator = RegressionEvaluator(labelCol=\"Regular Gross Paid\", predictionCol=\"prediction\", metricName=\"rmse\")\n",
    "\n",
    "rmse = evaluator.evaluate(pred)\n",
    "r2 = evaluator.setMetricName(\"r2\").evaluate(pred)\n",
    "\n",
    "print(rmse)\n",
    "print(r2)"
   ]
  },
  {
   "cell_type": "code",
   "execution_count": 0,
   "metadata": {
    "application/vnd.databricks.v1+cell": {
     "cellMetadata": {
      "byteLimit": 2048000,
      "rowLimit": 10000
     },
     "inputWidgets": {},
     "nuid": "65193b07-50d2-44fa-b73b-a29e28de3c95",
     "showTitle": false,
     "title": ""
    }
   },
   "outputs": [
    {
     "output_type": "display_data",
     "data": {
      "text/html": [
       "<style scoped>\n",
       "  .table-result-container {\n",
       "    max-height: 300px;\n",
       "    overflow: auto;\n",
       "  }\n",
       "  table, th, td {\n",
       "    border: 1px solid black;\n",
       "    border-collapse: collapse;\n",
       "  }\n",
       "  th, td {\n",
       "    padding: 5px;\n",
       "  }\n",
       "  th {\n",
       "    text-align: left;\n",
       "  }\n",
       "</style><div class='table-result-container'><table class='table-result'><thead style='background-color: white'><tr><th>prediction</th><th>residual</th></tr></thead><tbody><tr><td>78788.80092707623</td><td>743.8990729237703</td></tr><tr><td>67276.81760499463</td><td>-327.71760499462835</td></tr><tr><td>26736.25681986374</td><td>-1737.456819863739</td></tr><tr><td>74272.00506463072</td><td>1564.9149353692774</td></tr><tr><td>40589.49949711799</td><td>507.03050288200757</td></tr><tr><td>15185.352978628509</td><td>-2577.772978628509</td></tr><tr><td>46087.76450023704</td><td>292.6954997629582</td></tr><tr><td>84910.08515817893</td><td>148.13484182106913</td></tr><tr><td>53515.18494073205</td><td>1323.5350592679533</td></tr><tr><td>84800.27283982863</td><td>30.867160171372234</td></tr></tbody></table></div>"
      ]
     },
     "metadata": {
      "application/vnd.databricks.v1+output": {
       "addedWidgets": {},
       "aggData": [],
       "aggError": "",
       "aggOverflow": false,
       "aggSchema": [],
       "aggSeriesLimitReached": false,
       "aggType": "",
       "arguments": {},
       "columnCustomDisplayInfos": {},
       "data": [
        [
         78788.80092707623,
         743.8990729237703
        ],
        [
         67276.81760499463,
         -327.71760499462835
        ],
        [
         26736.25681986374,
         -1737.456819863739
        ],
        [
         74272.00506463072,
         1564.9149353692774
        ],
        [
         40589.49949711799,
         507.03050288200757
        ],
        [
         15185.352978628509,
         -2577.772978628509
        ],
        [
         46087.76450023704,
         292.6954997629582
        ],
        [
         84910.08515817893,
         148.13484182106913
        ],
        [
         53515.18494073205,
         1323.5350592679533
        ],
        [
         84800.27283982863,
         30.867160171372234
        ]
       ],
       "datasetInfos": [],
       "dbfsResultPath": null,
       "isJsonSchema": true,
       "metadata": {},
       "overflow": false,
       "plotOptions": {
        "customPlotOptions": {},
        "displayType": "table",
        "pivotAggregation": null,
        "pivotColumns": null,
        "xColumns": null,
        "yColumns": null
       },
       "removedWidgets": [],
       "schema": [
        {
         "metadata": "{\"ml_attr\":{\"attrs\":{\"numeric\":[{\"idx\":3,\"name\":\"Regular Hours\"},{\"idx\":4,\"name\":\"OT Hours\"},{\"idx\":5,\"name\":\"Total OT Paid\"},{\"idx\":6,\"name\":\"Total Other Pay\"},{\"idx\":7,\"name\":\"Regular Gross Paid\"}],\"nominal\":[{\"vals\":[\"MANHATTAN\",\"QUEENS\",\"BROOKLYN\",\"BRONX\",\"RICHMOND\"],\"idx\":0,\"name\":\"Work Location BoroughIndex\"},{\"vals\":[\"POLICE DEPARTMENT\",\"FIRE DEPARTMENT\",\"DEPARTMENT OF SANITATION\",\"DEPARTMENT OF CORRECTION\",\"NYC HOUSING AUTHORITY\"],\"idx\":1,\"name\":\"Agency NameIndex\"},{\"vals\":[\"POLICE OFFICER\",\"FIREFIGHTER\",\"SANITATION WORKER\",\"CORRECTION OFFICER\",\"SCHOOL SAFETY AGENT\",\"SERGEANT-\",\"P.O. DA DET GR3\",\"LIEUTENANT\",\"EMERGENCY MEDICAL SPECIALIST-EMT\",\"CARETAKER\",\"CAPTAIN\"],\"idx\":2,\"name\":\"Title DescriptionIndex\"}]},\"num_attrs\":8}}",
         "name": "prediction",
         "type": "\"double\""
        },
        {
         "metadata": "{}",
         "name": "residual",
         "type": "\"double\""
        }
       ],
       "type": "table"
      }
     },
     "output_type": "display_data"
    }
   ],
   "source": [
    "display(residuals.select(\"prediction\", \"residual\").limit(10))"
   ]
  },
  {
   "cell_type": "code",
   "execution_count": 0,
   "metadata": {
    "application/vnd.databricks.v1+cell": {
     "cellMetadata": {
      "byteLimit": 2048000,
      "rowLimit": 10000
     },
     "inputWidgets": {},
     "nuid": "f357a046-b85f-44ca-9ea2-680c93a517ee",
     "showTitle": false,
     "title": ""
    }
   },
   "outputs": [
    {
     "output_type": "display_data",
     "data": {
      "text/html": [
       "<style scoped>\n",
       "  .table-result-container {\n",
       "    max-height: 300px;\n",
       "    overflow: auto;\n",
       "  }\n",
       "  table, th, td {\n",
       "    border: 1px solid black;\n",
       "    border-collapse: collapse;\n",
       "  }\n",
       "  th, td {\n",
       "    padding: 5px;\n",
       "  }\n",
       "  th {\n",
       "    text-align: left;\n",
       "  }\n",
       "</style><div class='table-result-container'><table class='table-result'><thead style='background-color: white'><tr><th>avg(residual)</th></tr></thead><tbody><tr><td>-3.7160203827914913</td></tr></tbody></table></div>"
      ]
     },
     "metadata": {
      "application/vnd.databricks.v1+output": {
       "addedWidgets": {},
       "aggData": [],
       "aggError": "",
       "aggOverflow": false,
       "aggSchema": [],
       "aggSeriesLimitReached": false,
       "aggType": "",
       "arguments": {},
       "columnCustomDisplayInfos": {},
       "data": [
        [
         -3.7160203827914913
        ]
       ],
       "datasetInfos": [],
       "dbfsResultPath": null,
       "isJsonSchema": true,
       "metadata": {},
       "overflow": false,
       "plotOptions": {
        "customPlotOptions": {},
        "displayType": "table",
        "pivotAggregation": null,
        "pivotColumns": null,
        "xColumns": null,
        "yColumns": null
       },
       "removedWidgets": [],
       "schema": [
        {
         "metadata": "{}",
         "name": "avg(residual)",
         "type": "\"double\""
        }
       ],
       "type": "table"
      }
     },
     "output_type": "display_data"
    }
   ],
   "source": [
    "import pyspark.sql.functions as F\n",
    "\n",
    "residuals = pred.withColumn(\"residual\", (F.col(\"Regular Gross Paid\") - F.col(\"prediction\")))\n",
    "display(residuals.agg({'residual': 'mean'}))"
   ]
  },
  {
   "cell_type": "code",
   "execution_count": 0,
   "metadata": {
    "application/vnd.databricks.v1+cell": {
     "cellMetadata": {
      "byteLimit": 2048000,
      "rowLimit": 10000
     },
     "inputWidgets": {},
     "nuid": "eec531c0-46b4-402a-bbaf-fd9c7e642d40",
     "showTitle": false,
     "title": ""
    }
   },
   "outputs": [
    {
     "output_type": "display_data",
     "data": {
      "text/html": [
       "<style scoped>\n",
       "  .table-result-container {\n",
       "    max-height: 300px;\n",
       "    overflow: auto;\n",
       "  }\n",
       "  table, th, td {\n",
       "    border: 1px solid black;\n",
       "    border-collapse: collapse;\n",
       "  }\n",
       "  th, td {\n",
       "    padding: 5px;\n",
       "  }\n",
       "  th {\n",
       "    text-align: left;\n",
       "  }\n",
       "</style><div class='table-result-container'><table class='table-result'><thead style='background-color: white'><tr><th>prediction</th><th>residual</th></tr></thead><tbody><tr><td>81063.53292932124</td><td>-1530.8329293212446</td></tr><tr><td>73402.04629638793</td><td>-6452.94629638792</td></tr><tr><td>27215.88303701086</td><td>-2217.0830370108597</td></tr><tr><td>76607.77316028628</td><td>-770.8531602862786</td></tr><tr><td>44515.82719220669</td><td>-3419.2971922066936</td></tr><tr><td>17727.80255808838</td><td>-5120.2225580883805</td></tr><tr><td>46031.18789976569</td><td>349.2721002343096</td></tr><tr><td>85626.48860629727</td><td>-568.2686062972643</td></tr><tr><td>55372.622225957966</td><td>-533.9022259579651</td></tr><tr><td>85860.06621383007</td><td>-1028.9262138300692</td></tr></tbody></table></div>"
      ]
     },
     "metadata": {
      "application/vnd.databricks.v1+output": {
       "addedWidgets": {},
       "aggData": [],
       "aggError": "",
       "aggOverflow": false,
       "aggSchema": [],
       "aggSeriesLimitReached": false,
       "aggType": "",
       "arguments": {},
       "columnCustomDisplayInfos": {},
       "data": [
        [
         81063.53292932124,
         -1530.8329293212446
        ],
        [
         73402.04629638793,
         -6452.94629638792
        ],
        [
         27215.88303701086,
         -2217.0830370108597
        ],
        [
         76607.77316028628,
         -770.8531602862786
        ],
        [
         44515.82719220669,
         -3419.2971922066936
        ],
        [
         17727.80255808838,
         -5120.2225580883805
        ],
        [
         46031.18789976569,
         349.2721002343096
        ],
        [
         85626.48860629727,
         -568.2686062972643
        ],
        [
         55372.622225957966,
         -533.9022259579651
        ],
        [
         85860.06621383007,
         -1028.9262138300692
        ]
       ],
       "datasetInfos": [],
       "dbfsResultPath": null,
       "isJsonSchema": true,
       "metadata": {},
       "overflow": false,
       "plotOptions": {
        "customPlotOptions": {},
        "displayType": "table",
        "pivotAggregation": null,
        "pivotColumns": null,
        "xColumns": null,
        "yColumns": null
       },
       "removedWidgets": [],
       "schema": [
        {
         "metadata": "{\"ml_attr\":{}}",
         "name": "prediction",
         "type": "\"double\""
        },
        {
         "metadata": "{}",
         "name": "residual",
         "type": "\"double\""
        }
       ],
       "type": "table"
      }
     },
     "output_type": "display_data"
    },
    {
     "output_type": "display_data",
     "data": {
      "text/plain": [
       "Databricks visualization. Run in Databricks to view."
      ]
     },
     "metadata": {
      "application/vnd.databricks.v1.subcommand+json": {
       "bindings": {},
       "collapsed": false,
       "command": "%python\n__backend_agg_display_orig = display\n__backend_agg_dfs = []\ndef __backend_agg_display_new(df):\n    __backend_agg_df_modules = [\"pandas.core.frame\", \"databricks.koalas.frame\", \"pyspark.sql.dataframe\", \"pyspark.pandas.frame\", \"pyspark.sql.connect.dataframe\"]\n    if (type(df).__module__ in __backend_agg_df_modules and type(df).__name__ == 'DataFrame') or isinstance(df, list):\n        __backend_agg_dfs.append(df)\n\ndisplay = __backend_agg_display_new\n\ndef __backend_agg_user_code_fn():\n    import base64\n    exec(base64.standard_b64decode(\"ZGlzcGxheShyZXNpZHVhbHMuc2VsZWN0KCJwcmVkaWN0aW9uIiwgInJlc2lkdWFsIikp\").decode())\n\ntry:\n    # run user code\n    __backend_agg_user_code_fn()\n\n    #reset display function\n    display = __backend_agg_display_orig\n\n    if len(__backend_agg_dfs) > 0:\n        # create a temp view\n        if hasattr(__backend_agg_dfs[0], \"to_spark\"):\n            # koalas dataframe\n            __backend_agg_dfs[0].to_spark().createOrReplaceTempView(\"DatabricksViewbe5e16c\")\n        elif type(__backend_agg_dfs[0]).__module__ == \"pandas.core.frame\" or isinstance(__backend_agg_dfs[0], list):\n            # pandas dataframe\n            spark.createDataFrame(__backend_agg_dfs[0]).createOrReplaceTempView(\"DatabricksViewbe5e16c\")\n        else:\n            __backend_agg_dfs[0].createOrReplaceTempView(\"DatabricksViewbe5e16c\")\n        #run backend agg\n        display(spark.sql(\"\"\"WITH q AS (select * from DatabricksViewbe5e16c) SELECT `prediction`,`residual` FROM q\"\"\"))\n    else:\n        displayHTML(\"dataframe no longer exists. If you're using dataframe.display(), use display(dataframe) instead.\")\n\n\nfinally:\n    spark.sql(\"drop view if exists DatabricksViewbe5e16c\")\n    display = __backend_agg_display_orig\n    del __backend_agg_display_new\n    del __backend_agg_display_orig\n    del __backend_agg_dfs\n    del __backend_agg_user_code_fn\n\n",
       "commandTitle": "Visualization 1",
       "commandType": "auto",
       "commandVersion": 0,
       "commentThread": [],
       "commentsVisible": false,
       "contentSha256Hex": null,
       "customPlotOptions": {
        "redashChart": [
         {
          "key": "type",
          "value": "CHART"
         },
         {
          "key": "options",
          "value": {
           "alignYAxesAtZero": true,
           "coefficient": 1,
           "columnConfigurationMap": {
            "x": {
             "column": "prediction",
             "id": "column_13b9328915"
            },
            "y": [
             {
              "column": "residual",
              "id": "column_13b9328916"
             }
            ]
           },
           "dateTimeFormat": "DD/MM/YYYY HH:mm",
           "direction": {
            "type": "counterclockwise"
           },
           "error_y": {
            "type": "data",
            "visible": true
           },
           "globalSeriesType": "scatter",
           "legend": {
            "traceorder": "normal"
           },
           "missingValuesAsZero": true,
           "numberFormat": "0,0[.]00000",
           "percentFormat": "0[.]00%",
           "series": {
            "error_y": {
             "type": "data",
             "visible": true
            },
            "stacking": null
           },
           "seriesOptions": {
            "column_13b9328916": {
             "name": "residual",
             "yAxis": 0
            }
           },
           "showDataLabels": false,
           "sizemode": "diameter",
           "sortX": true,
           "sortY": true,
           "swappedAxes": false,
           "textFormat": "",
           "useAggregationsUi": true,
           "valuesOptions": {},
           "version": 2,
           "xAxis": {
            "labels": {
             "enabled": true
            },
            "type": "-"
           },
           "yAxis": [
            {
             "type": "-"
            },
            {
             "opposite": true,
             "type": "-"
            }
           ]
          }
         }
        ]
       },
       "datasetPreviewNameToCmdIdMap": {},
       "diffDeletes": [],
       "diffInserts": [],
       "displayType": "redashChart",
       "error": null,
       "errorSummary": null,
       "errorTraceType": null,
       "finishTime": 0,
       "globalVars": {},
       "guid": "",
       "height": "auto",
       "hideCommandCode": false,
       "hideCommandResult": false,
       "iPythonMetadata": null,
       "inputWidgets": {},
       "isLockedInExamMode": false,
       "latestUser": "a user",
       "latestUserId": null,
       "listResultMetadata": null,
       "metadata": {
        "byteLimit": 2048000,
        "rowLimit": 10000
       },
       "nuid": "d5df8815-bd40-4943-bf6c-1970c364a43a",
       "origId": 0,
       "parentHierarchy": [],
       "pivotAggregation": null,
       "pivotColumns": null,
       "position": 24.177160263061523,
       "resultDbfsErrorMessage": null,
       "resultDbfsStatus": "INLINED_IN_TREE",
       "results": null,
       "showCommandTitle": false,
       "startTime": 0,
       "state": "input",
       "streamStates": {},
       "subcommandOptions": {
        "queryPlan": {
         "selects": [
          {
           "column": "prediction",
           "type": "column"
          },
          {
           "column": "residual",
           "type": "column"
          }
         ]
        }
       },
       "submitTime": 0,
       "subtype": "tableResultSubCmd.visualization",
       "tableResultIndex": 0,
       "useConsistentColors": false,
       "version": "CommandV1",
       "width": "auto",
       "workflows": [],
       "xColumns": null,
       "yColumns": null
      }
     },
     "output_type": "display_data"
    }
   ],
   "source": [
    "display(residuals.select(\"prediction\", \"residual\").limit(10))"
   ]
  },
  {
   "cell_type": "code",
   "execution_count": 0,
   "metadata": {
    "application/vnd.databricks.v1+cell": {
     "cellMetadata": {
      "byteLimit": 2048000,
      "rowLimit": 10000
     },
     "inputWidgets": {},
     "nuid": "9806aec1-8ca6-4f7a-bf1b-1a1a59cb0edc",
     "showTitle": false,
     "title": ""
    }
   },
   "outputs": [
    {
     "output_type": "stream",
     "name": "stdout",
     "output_type": "stream",
     "text": [
      "Out[50]: SparseVector(8, {0: 0.0, 1: 0.0146, 2: 0.0944, 3: 0.0189, 4: 0.0012, 5: 0.024, 6: 0.3197, 7: 0.5272})"
     ]
    }
   ],
   "source": [
    "model.stages[-1].featureImportances"
   ]
  },
  {
   "cell_type": "code",
   "execution_count": 0,
   "metadata": {
    "application/vnd.databricks.v1+cell": {
     "cellMetadata": {
      "byteLimit": 2048000,
      "rowLimit": 10000
     },
     "inputWidgets": {},
     "nuid": "1b34d8ac-86d4-4404-a820-0e3581160823",
     "showTitle": false,
     "title": ""
    }
   },
   "outputs": [],
   "source": [
    "featureImportance = model.stages[-1].featureImportances.toArray()\n",
    "featureNames = map(lambda s: s.name, df.schema.fields)\n",
    "featureImportanceMap = zip(featureImportance, featureNames)"
   ]
  },
  {
   "cell_type": "code",
   "execution_count": 0,
   "metadata": {
    "application/vnd.databricks.v1+cell": {
     "cellMetadata": {
      "byteLimit": 2048000,
      "rowLimit": 10000
     },
     "inputWidgets": {},
     "nuid": "dae0b729-8eba-4e01-95b6-6e25b3be7502",
     "showTitle": false,
     "title": ""
    }
   },
   "outputs": [],
   "source": [
    "importancesDf = spark.createDataFrame(sc.parallelize(featureImportanceMap).map(lambda r: [r[1], float(r[0])]))"
   ]
  },
  {
   "cell_type": "code",
   "execution_count": 0,
   "metadata": {
    "application/vnd.databricks.v1+cell": {
     "cellMetadata": {
      "byteLimit": 2048000,
      "rowLimit": 10000
     },
     "inputWidgets": {},
     "nuid": "4f4d9711-3cbc-447d-8c14-4f45ce845f17",
     "showTitle": false,
     "title": ""
    }
   },
   "outputs": [
    {
     "output_type": "display_data",
     "data": {
      "text/html": [
       "<style scoped>\n",
       "  .table-result-container {\n",
       "    max-height: 300px;\n",
       "    overflow: auto;\n",
       "  }\n",
       "  table, th, td {\n",
       "    border: 1px solid black;\n",
       "    border-collapse: collapse;\n",
       "  }\n",
       "  th, td {\n",
       "    padding: 5px;\n",
       "  }\n",
       "  th {\n",
       "    text-align: left;\n",
       "  }\n",
       "</style><div class='table-result-container'><table class='table-result'><thead style='background-color: white'><tr><th>Features</th><th>Importance</th></tr></thead><tbody><tr><td>Years_Working</td><td>0.5271753989933409</td></tr><tr><td>Total Other Pay</td><td>0.3197387531659057</td></tr><tr><td>Title Description</td><td>0.09444600402932907</td></tr><tr><td>Total OT Paid</td><td>0.023960120016458114</td></tr><tr><td>Regular Hours</td><td>0.018852009760189827</td></tr><tr><td>Agency Name</td><td>0.014596763553701228</td></tr><tr><td>OT Hours</td><td>0.0012255581540514216</td></tr><tr><td>Work Location Borough</td><td>5.392327023854675E-6</td></tr></tbody></table></div>"
      ]
     },
     "metadata": {
      "application/vnd.databricks.v1+output": {
       "addedWidgets": {},
       "aggData": [],
       "aggError": "",
       "aggOverflow": false,
       "aggSchema": [],
       "aggSeriesLimitReached": false,
       "aggType": "",
       "arguments": {},
       "columnCustomDisplayInfos": {},
       "data": [
        [
         "Years_Working",
         0.5271753989933409
        ],
        [
         "Total Other Pay",
         0.3197387531659057
        ],
        [
         "Title Description",
         0.09444600402932907
        ],
        [
         "Total OT Paid",
         0.023960120016458114
        ],
        [
         "Regular Hours",
         0.018852009760189827
        ],
        [
         "Agency Name",
         0.014596763553701228
        ],
        [
         "OT Hours",
         0.0012255581540514216
        ],
        [
         "Work Location Borough",
         5.392327023854675E-6
        ]
       ],
       "datasetInfos": [],
       "dbfsResultPath": null,
       "isJsonSchema": true,
       "metadata": {},
       "overflow": false,
       "plotOptions": {
        "customPlotOptions": {},
        "displayType": "table",
        "pivotAggregation": null,
        "pivotColumns": null,
        "xColumns": null,
        "yColumns": null
       },
       "removedWidgets": [],
       "schema": [
        {
         "metadata": "{}",
         "name": "Features",
         "type": "\"string\""
        },
        {
         "metadata": "{}",
         "name": "Importance",
         "type": "\"double\""
        }
       ],
       "type": "table"
      }
     },
     "output_type": "display_data"
    },
    {
     "output_type": "display_data",
     "data": {
      "text/plain": [
       "Databricks visualization. Run in Databricks to view."
      ]
     },
     "metadata": {
      "application/vnd.databricks.v1.subcommand+json": {
       "bindings": {},
       "collapsed": false,
       "command": "%python\n__backend_agg_display_orig = display\n__backend_agg_dfs = []\ndef __backend_agg_display_new(df):\n    __backend_agg_df_modules = [\"pandas.core.frame\", \"databricks.koalas.frame\", \"pyspark.sql.dataframe\", \"pyspark.pandas.frame\", \"pyspark.sql.connect.dataframe\"]\n    if (type(df).__module__ in __backend_agg_df_modules and type(df).__name__ == 'DataFrame') or isinstance(df, list):\n        __backend_agg_dfs.append(df)\n\ndisplay = __backend_agg_display_new\n\ndef __backend_agg_user_code_fn():\n    import base64\n    exec(base64.standard_b64decode(\"RmVhdHVyZV9ERiA9IGltcG9ydGFuY2VzRGYud2l0aENvbHVtblJlbmFtZWQoIl8xIiwgIkZlYXR1cmVzIikud2l0aENvbHVtblJlbmFtZWQoIl8yIiwgIkltcG9ydGFuY2UiKQoKZGlzcGxheShGZWF0dXJlX0RGLm9yZGVyQnkoZGVzYygiSW1wb3J0YW5jZSIpKSk=\").decode())\n\ntry:\n    # run user code\n    __backend_agg_user_code_fn()\n\n    #reset display function\n    display = __backend_agg_display_orig\n\n    if len(__backend_agg_dfs) > 0:\n        # create a temp view\n        if hasattr(__backend_agg_dfs[0], \"to_spark\"):\n            # koalas dataframe\n            __backend_agg_dfs[0].to_spark().createOrReplaceTempView(\"DatabricksView35cf86d\")\n        elif type(__backend_agg_dfs[0]).__module__ == \"pandas.core.frame\" or isinstance(__backend_agg_dfs[0], list):\n            # pandas dataframe\n            spark.createDataFrame(__backend_agg_dfs[0]).createOrReplaceTempView(\"DatabricksView35cf86d\")\n        else:\n            __backend_agg_dfs[0].createOrReplaceTempView(\"DatabricksView35cf86d\")\n        #run backend agg\n        display(spark.sql(\"\"\"WITH q AS (select * from DatabricksView35cf86d) SELECT `Features`,SUM(`Importance`) `column_f0f145c313` FROM q GROUP BY `Features`\"\"\"))\n    else:\n        displayHTML(\"dataframe no longer exists. If you're using dataframe.display(), use display(dataframe) instead.\")\n\n\nfinally:\n    spark.sql(\"drop view if exists DatabricksView35cf86d\")\n    display = __backend_agg_display_orig\n    del __backend_agg_display_new\n    del __backend_agg_display_orig\n    del __backend_agg_dfs\n    del __backend_agg_user_code_fn\n\n",
       "commandTitle": "Visualization 1",
       "commandType": "auto",
       "commandVersion": 0,
       "commentThread": [],
       "commentsVisible": false,
       "contentSha256Hex": null,
       "customPlotOptions": {
        "redashChart": [
         {
          "key": "type",
          "value": "CHART"
         },
         {
          "key": "options",
          "value": {
           "alignYAxesAtZero": true,
           "coefficient": 1,
           "columnConfigurationMap": {
            "x": {
             "column": "Features",
             "id": "column_f0f145c312"
            },
            "y": [
             {
              "column": "Importance",
              "id": "column_f0f145c313",
              "transform": "SUM"
             }
            ]
           },
           "dateTimeFormat": "DD/MM/YYYY HH:mm",
           "direction": {
            "type": "counterclockwise"
           },
           "error_y": {
            "type": "data",
            "visible": true
           },
           "globalSeriesType": "column",
           "isAggregationOn": true,
           "legend": {
            "traceorder": "normal"
           },
           "missingValuesAsZero": true,
           "numberFormat": "0,0[.]00000",
           "percentFormat": "0[.]00%",
           "series": {
            "error_y": {
             "type": "data",
             "visible": true
            },
            "stacking": null
           },
           "seriesOptions": {
            "column_f0f145c313": {
             "name": "Importance",
             "yAxis": 0
            }
           },
           "showDataLabels": false,
           "sizemode": "diameter",
           "sortX": false,
           "sortY": true,
           "swappedAxes": false,
           "textFormat": "",
           "useAggregationsUi": true,
           "valuesOptions": {},
           "version": 2,
           "xAxis": {
            "labels": {
             "enabled": true
            },
            "title": {
             "text": "Features"
            },
            "type": "-"
           },
           "yAxis": [
            {
             "title": {
              "text": "Feature Importance"
             },
             "type": "-"
            },
            {
             "opposite": true,
             "type": "-"
            }
           ]
          }
         }
        ]
       },
       "datasetPreviewNameToCmdIdMap": {},
       "diffDeletes": [],
       "diffInserts": [],
       "displayType": "redashChart",
       "error": null,
       "errorSummary": null,
       "errorTraceType": null,
       "finishTime": 0,
       "globalVars": {},
       "guid": "",
       "height": "auto",
       "hideCommandCode": false,
       "hideCommandResult": false,
       "iPythonMetadata": null,
       "inputWidgets": {},
       "isLockedInExamMode": false,
       "latestUser": "a user",
       "latestUserId": null,
       "listResultMetadata": null,
       "metadata": {
        "byteLimit": 2048000,
        "rowLimit": 10000
       },
       "nuid": "c5748aff-af9e-47a5-a77f-ef6066f06e44",
       "origId": 0,
       "parentHierarchy": [],
       "pivotAggregation": null,
       "pivotColumns": null,
       "position": 24.364660263061523,
       "resultDbfsErrorMessage": null,
       "resultDbfsStatus": "INLINED_IN_TREE",
       "results": null,
       "showCommandTitle": false,
       "startTime": 0,
       "state": "input",
       "streamStates": {},
       "subcommandOptions": {
        "queryPlan": {
         "groups": [
          {
           "column": "Features",
           "type": "column"
          }
         ],
         "selects": [
          {
           "column": "Features",
           "type": "column"
          },
          {
           "alias": "column_f0f145c313",
           "args": [
            {
             "column": "Importance",
             "type": "column"
            }
           ],
           "function": "SUM",
           "type": "function"
          }
         ]
        }
       },
       "submitTime": 0,
       "subtype": "tableResultSubCmd.visualization",
       "tableResultIndex": 0,
       "useConsistentColors": false,
       "version": "CommandV1",
       "width": "auto",
       "workflows": [],
       "xColumns": null,
       "yColumns": null
      }
     },
     "output_type": "display_data"
    }
   ],
   "source": [
    "Feature_DF = importancesDf.withColumnRenamed(\"_1\", \"Features\").withColumnRenamed(\"_2\", \"Importance\")\n",
    "\n",
    "display(Feature_DF.orderBy(desc(\"Importance\")))"
   ]
  },
  {
   "cell_type": "code",
   "execution_count": 0,
   "metadata": {
    "application/vnd.databricks.v1+cell": {
     "cellMetadata": {
      "byteLimit": 2048000,
      "rowLimit": 10000
     },
     "inputWidgets": {},
     "nuid": "8abaebff-834e-4474-8878-4aabed653512",
     "showTitle": false,
     "title": ""
    }
   },
   "outputs": [],
   "source": []
  }
 ],
 "metadata": {
  "application/vnd.databricks.v1+notebook": {
   "dashboards": [],
   "language": "python",
   "notebookMetadata": {
    "mostRecentlyExecutedCommandWithImplicitDF": {
     "commandId": 2010222408667594,
     "dataframes": [
      "_sqldf"
     ]
    },
    "pythonIndentUnit": 4
   },
   "notebookName": "Salary Project",
   "widgets": {}
  }
 },
 "nbformat": 4,
 "nbformat_minor": 0
}
